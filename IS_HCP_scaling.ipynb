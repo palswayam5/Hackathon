{
  "cells": [
    {
      "cell_type": "markdown",
      "metadata": {
        "id": "view-in-github",
        "colab_type": "text"
      },
      "source": [
        "<a href=\"https://colab.research.google.com/github/palswayam5/Hackathon/blob/main/IS_HCP_scaling.ipynb\" target=\"_parent\"><img src=\"https://colab.research.google.com/assets/colab-badge.svg\" alt=\"Open In Colab\"/></a>"
      ]
    },
    {
      "cell_type": "code",
      "source": [
        "from google.colab import drive\n",
        "drive.mount('/content/drive')"
      ],
      "metadata": {
        "id": "m4d5cMVRh93N",
        "colab": {
          "base_uri": "https://localhost:8080/"
        },
        "outputId": "97fb3e40-4769-4111-d661-65d1296d2fb3"
      },
      "id": "m4d5cMVRh93N",
      "execution_count": 13,
      "outputs": [
        {
          "output_type": "stream",
          "name": "stdout",
          "text": [
            "Mounted at /content/drive\n"
          ]
        }
      ]
    },
    {
      "cell_type": "code",
      "source": [
        "!pip install -q -U keras-tuner"
      ],
      "metadata": {
        "colab": {
          "base_uri": "https://localhost:8080/"
        },
        "id": "8GU3Few7bV1x",
        "outputId": "60974dea-6867-47f2-e680-42178c13182c"
      },
      "id": "8GU3Few7bV1x",
      "execution_count": 69,
      "outputs": [
        {
          "output_type": "stream",
          "name": "stdout",
          "text": [
            "\u001b[?25l     \u001b[90m━━━━━━━━━━━━━━━━━━━━━━━━━━━━━━━━━━━━━━━━\u001b[0m \u001b[32m0.0/176.1 kB\u001b[0m \u001b[31m?\u001b[0m eta \u001b[36m-:--:--\u001b[0m\r\u001b[2K     \u001b[90m━━━━━━━━━━━━━━━━━━━━━━━━━━━━━━━━━━━━━━━\u001b[0m \u001b[32m176.1/176.1 kB\u001b[0m \u001b[31m7.3 MB/s\u001b[0m eta \u001b[36m0:00:00\u001b[0m\n",
            "\u001b[?25h"
          ]
        }
      ]
    },
    {
      "cell_type": "code",
      "execution_count": 70,
      "id": "95377922",
      "metadata": {
        "id": "95377922"
      },
      "outputs": [],
      "source": [
        "import pandas as pd\n",
        "import numpy as np\n",
        "import matplotlib.pyplot as plt\n",
        "import sklearn.ensemble\n",
        "from sklearn.feature_extraction.text import TfidfVectorizer\n",
        "from sklearn.preprocessing import StandardScaler\n",
        "from sklearn.ensemble import RandomForestClassifier,HistGradientBoostingClassifier,GradientBoostingClassifier\n",
        "from sklearn.neural_network import MLPClassifier\n",
        "from sklearn.metrics import accuracy_score, precision_score, recall_score ,f1_score,confusion_matrix\n",
        "import keras_tuner as kt"
      ]
    },
    {
      "cell_type": "code",
      "execution_count": 15,
      "id": "fb839c51",
      "metadata": {
        "id": "fb839c51"
      },
      "outputs": [],
      "source": [
        "df=pd.read_csv(\"/content/drive/MyDrive/hackathon/Doceree-HCP_Train.csv\", encoding = \"latin=1\")"
      ]
    },
    {
      "cell_type": "code",
      "execution_count": 4,
      "id": "a63239ec",
      "metadata": {
        "colab": {
          "base_uri": "https://localhost:8080/"
        },
        "id": "a63239ec",
        "outputId": "a83e293c-6253-49e5-ef32-c5752a1df58e"
      },
      "outputs": [
        {
          "output_type": "stream",
          "name": "stdout",
          "text": [
            "no of nan values :  0\n",
            "(113937, 14)\n"
          ]
        }
      ],
      "source": [
        "print(\"no of nan values : \" ,df['ID'].isna().sum())\n",
        "print(df.shape)"
      ]
    },
    {
      "cell_type": "code",
      "execution_count": 5,
      "id": "472a66ec",
      "metadata": {
        "colab": {
          "base_uri": "https://localhost:8080/"
        },
        "id": "472a66ec",
        "outputId": "3c60dd6d-6fc9-49be-f7c6-eb53b3a34b8e"
      },
      "outputs": [
        {
          "output_type": "stream",
          "name": "stdout",
          "text": [
            "no of nan values :  0\n",
            "Desktop    78423\n",
            "Mobile     32065\n",
            "Tablet      3425\n",
            "Unknown       24\n",
            "Name: DEVICETYPE, dtype: int64\n"
          ]
        }
      ],
      "source": [
        "print(\"no of nan values : \" ,df['DEVICETYPE'].isna().sum())\n",
        "print(df.DEVICETYPE.value_counts())"
      ]
    },
    {
      "cell_type": "markdown",
      "source": [
        "below are some obvious results i am not running them again coz it takes up a lot of ram\n"
      ],
      "metadata": {
        "id": "D8Ys4LBk5F1P"
      },
      "id": "D8Ys4LBk5F1P"
    },
    {
      "cell_type": "code",
      "execution_count": null,
      "id": "99ff1253",
      "metadata": {
        "colab": {
          "base_uri": "https://localhost:8080/"
        },
        "id": "99ff1253",
        "outputId": "86bbcd9f-f80a-49ac-eea3-c18dbe31bd18"
      },
      "outputs": [
        {
          "output_type": "stream",
          "name": "stdout",
          "text": [
            "no of nan values :  0\n",
            "2     43608\n",
            "7     11508\n",
            "9      2092\n",
            "5      1739\n",
            "6      1643\n",
            "10      596\n",
            "4       413\n",
            "14      400\n",
            "12      317\n",
            "3       274\n",
            "8        73\n",
            "15       25\n",
            "1        22\n",
            "13       12\n",
            "16        1\n",
            "Name: PLATFORM_ID, dtype: int64\n"
          ]
        }
      ],
      "source": [
        "print(\"no of nan values : \" ,df['PLATFORM_ID'].isna().sum())\n",
        "print(df.PLATFORM_ID.value_counts())"
      ]
    },
    {
      "cell_type": "code",
      "execution_count": null,
      "id": "ea4380ee",
      "metadata": {
        "colab": {
          "base_uri": "https://localhost:8080/"
        },
        "id": "ea4380ee",
        "outputId": "039cb6b8-36b2-4505-c91e-18cb46436d28"
      },
      "outputs": [
        {
          "output_type": "stream",
          "name": "stdout",
          "text": [
            "no of nan values :  0\n",
            "71.105.120.171     936\n",
            "142.154.205.202    644\n",
            "68.132.98.211      490\n",
            "108.175.114.101    396\n",
            "108.175.114.100    394\n",
            "162.17.102.153     353\n",
            "173.66.114.27      348\n",
            "12.218.110.242     309\n",
            "65.216.253.25      290\n",
            "150.148.14.137     286\n",
            "99.160.6.197       265\n",
            "129.176.151.15     258\n",
            "65.112.8.18        228\n",
            "23.125.217.54      227\n",
            "24.102.87.62       211\n",
            "69.92.49.4         196\n",
            "38.240.111.51      190\n",
            "47.189.55.180      184\n",
            "71.87.24.123       180\n",
            "198.184.147.58     151\n",
            "128.146.52.108     144\n",
            "67.203.36.94       142\n",
            "71.66.42.242       133\n",
            "67.203.36.81       126\n",
            "128.146.189.103    120\n",
            "24.45.121.35       117\n",
            "50.26.129.135      116\n",
            "209.126.104.10     113\n",
            "98.110.76.22       111\n",
            "209.126.104.7      109\n",
            "207.38.89.236      108\n",
            "66.249.66.73       108\n",
            "139.52.18.237      107\n",
            "207.38.87.145      103\n",
            "66.249.66.75       102\n",
            "209.126.127.71     101\n",
            "68.175.60.169       99\n",
            "209.126.103.138     97\n",
            "35.129.213.194      96\n",
            "216.24.45.43        95\n",
            "174.66.101.238      94\n",
            "209.126.124.58      93\n",
            "170.212.0.93        93\n",
            "209.126.104.18      91\n",
            "209.126.104.13      85\n",
            "104.136.3.138       84\n",
            "152.16.191.106      84\n",
            "208.74.105.182      83\n",
            "167.201.243.131     83\n",
            "162.119.232.108     83\n",
            "162.82.0.67         81\n",
            "71.163.17.92        81\n",
            "185.228.195.71      81\n",
            "66.97.189.250       81\n",
            "73.7.183.117        80\n",
            "152.3.43.49         80\n",
            "174.59.217.179      78\n",
            "66.249.66.89        74\n",
            "71.232.195.131      71\n",
            "129.171.150.193     69\n",
            "Name: BIDREQUESTIP, dtype: int64\n"
          ]
        }
      ],
      "source": [
        "print(\"no of nan values : \" ,df['BIDREQUESTIP'].isna().sum())\n",
        "print(df.BIDREQUESTIP.value_counts().head(60))"
      ]
    },
    {
      "cell_type": "code",
      "execution_count": null,
      "id": "497a28fc",
      "metadata": {
        "colab": {
          "base_uri": "https://localhost:8080/"
        },
        "id": "497a28fc",
        "outputId": "1fd877f4-ac46-4c4b-c99a-e11dee71babd"
      },
      "outputs": [
        {
          "output_type": "stream",
          "name": "stdout",
          "text": [
            "no of nan values :  1\n",
            "3e2578c8-f794-41af-a38c-c5cfb3c0f014    798\n",
            "d76f7c0b-1a64-4d4b-b36d-86c832be8837    782\n",
            "fcd3d327-0ad5-425e-8ea8-33ffe6a31543    353\n",
            "d00f28d6-3a50-46cd-92f3-8601bd57ad0e    348\n",
            "fe53f32c-4646-4abe-afea-90b21d6b8531    330\n",
            "73828378-8999-4670-a3bf-e5e78096301c    286\n",
            "82fcc028-f146-4efb-b95e-69fd62109bbc    284\n",
            "fa24a307-1001-4f5e-9d87-669e91737c07    265\n",
            "f6890950-af86-4400-ab0b-e8498d0ba99e    242\n",
            "6b1794db-cc22-4f66-b185-ecd99146bb07    228\n",
            "a4706c21-3ce1-453d-b57c-1541c50d15f5    227\n",
            "d9f89efd-0f02-4844-9719-098302c545df    212\n",
            "c42db189-7d1b-4639-b9c6-9fa4d80be4bd    195\n",
            "72cbb382-31dd-4e2a-9e9c-9d0f40a7d0a9    193\n",
            "29903453-4c40-4f25-98a5-ddc554f71555    190\n",
            "9fee45ce-0010-40e0-a272-6c1c4f86ea00    180\n",
            "cd57e558-f19d-4cd8-afcc-d0fa18259173    178\n",
            "63238044-b275-480b-a613-780d45d2f70a    167\n",
            "456631b8-ca59-4e7a-96a0-53bcbf85eaef    142\n",
            "722fe815-ed32-4bff-ad66-03edf6d910dd    142\n",
            "Name: USERPLATFORMUID, dtype: int64\n"
          ]
        }
      ],
      "source": [
        "print(\"no of nan values : \" ,df['USERPLATFORMUID'].isna().sum())\n",
        "print(df.USERPLATFORMUID.value_counts().head(20))"
      ]
    },
    {
      "cell_type": "code",
      "execution_count": null,
      "id": "8cdf96bc",
      "metadata": {
        "colab": {
          "base_uri": "https://localhost:8080/"
        },
        "id": "8cdf96bc",
        "outputId": "0f77368e-ed10-4be4-c9d0-745ae0aa2c29"
      },
      "outputs": [
        {
          "output_type": "stream",
          "name": "stdout",
          "text": [
            "no of nan values :  3497\n",
            "New York              2739\n",
            "Brooklyn              1773\n",
            "St Louis              1411\n",
            "Los Angeles           1173\n",
            "Houston                997\n",
            "Queens                 909\n",
            "Arlington              776\n",
            "Chicago                770\n",
            "Philadelphia           643\n",
            "Columbus               626\n",
            "Miami                  555\n",
            "Phoenix                509\n",
            "Deer Park              497\n",
            "San Francisco          479\n",
            "Fort Worth             466\n",
            "Rochester              446\n",
            "Dallas                 441\n",
            "Charlotte              401\n",
            "Memphis                389\n",
            "Palm Beach Gardens     376\n",
            "Pittsburgh             370\n",
            "Seattle                368\n",
            "Rockville              328\n",
            "Atlanta                328\n",
            "Durham                 323\n",
            "Minneapolis            304\n",
            "Washington             302\n",
            "Springfield            299\n",
            "Cambridge              295\n",
            "Denver                 289\n",
            "Portland               286\n",
            "Cleveland              285\n",
            "San Diego              273\n",
            "Tampa                  267\n",
            "Jacksonville           251\n",
            "Orlando                249\n",
            "Buena Park             231\n",
            "San Antonio            229\n",
            "Boston                 227\n",
            "Austin                 224\n",
            "Garland                216\n",
            "Sacramento             216\n",
            "Birmingham             216\n",
            "Cincinnati             214\n",
            "Indianapolis           214\n",
            "Idaho Falls            212\n",
            "Las Vegas              211\n",
            "Salt Lake City         208\n",
            "Appleton               206\n",
            "Ashburn                206\n",
            "Kansas City            204\n",
            "San Jose               196\n",
            "Pilot Mountain         190\n",
            "Richmond               184\n",
            "Baltimore              176\n",
            "Gainesville            164\n",
            "Amarillo               163\n",
            "Nashville              159\n",
            "Milwaukee              150\n",
            "Saint Paul             143\n",
            "Name: USERCITY, dtype: int64\n"
          ]
        }
      ],
      "source": [
        "print(\"no of nan values : \" ,df['USERCITY'].isna().sum())\n",
        "print(df.USERCITY.value_counts().head(60))"
      ]
    },
    {
      "cell_type": "code",
      "execution_count": null,
      "id": "02c32a70",
      "metadata": {
        "colab": {
          "base_uri": "https://localhost:8080/"
        },
        "id": "02c32a70",
        "outputId": "b76d1db2-3f65-4408-8534-ee574cd1cb1f"
      },
      "outputs": [
        {
          "output_type": "stream",
          "name": "stdout",
          "text": [
            "no of nan values :  2510\n",
            "63169.0        1191\n",
            "11226.0         959\n",
            "10001.0         658\n",
            "22202.0         640\n",
            "90060.0         576\n",
            "               ... \n",
            "317686772.0       1\n",
            "60465.0           1\n",
            "80124.0           1\n",
            "76012.0           1\n",
            "83647.0           1\n",
            "Name: USERZIPCODE, Length: 9527, dtype: int64\n"
          ]
        }
      ],
      "source": [
        "print(\"no of nan values : \" ,df['USERZIPCODE'].isna().sum())\n",
        "print(df.USERZIPCODE.value_counts())"
      ]
    },
    {
      "cell_type": "code",
      "execution_count": null,
      "id": "17008e93",
      "metadata": {
        "colab": {
          "base_uri": "https://localhost:8080/"
        },
        "id": "17008e93",
        "outputId": "e5f2f933-f2d4-435f-8177-837ed1e847df",
        "scrolled": true
      },
      "outputs": [
        {
          "output_type": "stream",
          "name": "stdout",
          "text": [
            "no of nan values :  1\n"
          ]
        }
      ],
      "source": [
        "print(\"no of nan values : \" ,df['USERAGENT'].isna().sum())\n"
      ]
    },
    {
      "cell_type": "code",
      "execution_count": null,
      "id": "6eeedca0",
      "metadata": {
        "colab": {
          "base_uri": "https://localhost:8080/"
        },
        "id": "6eeedca0",
        "outputId": "519ffebb-41ba-4f84-a872-03246c5ef7e4"
      },
      "outputs": [
        {
          "output_type": "stream",
          "name": "stdout",
          "text": [
            "no of nan values :  0\n",
            "Online Medical Journal      60620\n",
            "Online Learning Portal       1643\n",
            "Medical News Platform         437\n",
            "Electronic Health Record       22\n",
            "Tele-medicine Platform          1\n",
            "Name: PLATFORMTYPE, dtype: int64\n"
          ]
        }
      ],
      "source": [
        "print(\"no of nan values : \" ,df['PLATFORMTYPE'].isna().sum())\n",
        "print(df.PLATFORMTYPE.value_counts())"
      ]
    },
    {
      "cell_type": "code",
      "execution_count": null,
      "id": "1abc9643",
      "metadata": {
        "colab": {
          "base_uri": "https://localhost:8080/"
        },
        "id": "1abc9643",
        "outputId": "f07994c6-9c3f-45cd-b706-2ebf95c21730"
      },
      "outputs": [
        {
          "output_type": "stream",
          "name": "stdout",
          "text": [
            "no of nan values :  0\n",
            "Website    62723\n",
            "Name: CHANNELTYPE, dtype: int64\n"
          ]
        }
      ],
      "source": [
        "print(\"no of nan values : \" ,df['CHANNELTYPE'].isna().sum())\n",
        "print(df.CHANNELTYPE.value_counts())"
      ]
    },
    {
      "cell_type": "code",
      "execution_count": null,
      "id": "97a4bf71",
      "metadata": {
        "colab": {
          "base_uri": "https://localhost:8080/"
        },
        "id": "97a4bf71",
        "outputId": "42df0c36-cd8f-4036-9793-47c4c923c412"
      },
      "outputs": [
        {
          "output_type": "stream",
          "name": "stdout",
          "text": [
            "no of nan values :  0\n",
            "4084\n"
          ]
        }
      ],
      "source": [
        "print(\"no of nan values : \" ,df['URL'].isna().sum())\n",
        "print(df.URL.nunique())"
      ]
    },
    {
      "cell_type": "code",
      "execution_count": null,
      "id": "f2651d7d",
      "metadata": {
        "colab": {
          "base_uri": "https://localhost:8080/"
        },
        "id": "f2651d7d",
        "outputId": "17a2da19-e988-4e00-956f-3f23086917da"
      },
      "outputs": [
        {
          "output_type": "stream",
          "name": "stdout",
          "text": [
            "no of nan values :  0\n",
            "2136\n"
          ]
        }
      ],
      "source": [
        "print(\"no of nan values : \" ,df['KEYWORDS'].isna().sum())\n",
        "print(df.KEYWORDS.nunique())"
      ]
    },
    {
      "cell_type": "code",
      "source": [
        "df.head()"
      ],
      "metadata": {
        "id": "kPAa1q3OFSyf",
        "outputId": "3c4f1026-9e37-4aca-da73-7668a3f8a08e",
        "colab": {
          "base_uri": "https://localhost:8080/",
          "height": 634
        }
      },
      "id": "kPAa1q3OFSyf",
      "execution_count": null,
      "outputs": [
        {
          "output_type": "execute_result",
          "data": {
            "text/plain": [
              "     ID DEVICETYPE  PLATFORM_ID    BIDREQUESTIP  \\\n",
              "0  1001    Desktop            2    170.173.0.22   \n",
              "1  1002    Desktop            2   65.216.253.25   \n",
              "2  1003    Desktop            2    66.232.79.22   \n",
              "3  1004    Desktop            3  137.54.125.246   \n",
              "4  1005     Mobile            7  174.202.231.99   \n",
              "\n",
              "                        USERPLATFORMUID     USERCITY  USERZIPCODE  \\\n",
              "0  6974dcaa-f932-480e-9fb5-c52e20e1393a     Portland      97206.0   \n",
              "1  c12f3f8f-8fcf-484a-90e1-1ac04db8cdcf    Arlington      22202.0   \n",
              "2  a698de4b-e200-46dd-b5fb-40402175ae18  New Meadows      83654.0   \n",
              "3  45967533-75c8-4fbd-a00c-e6ff20447aaa          NaN  229114624.0   \n",
              "4  a17e25be-532d-4cf5-b916-9308c8c3961f      Houston      77008.0   \n",
              "\n",
              "                                           USERAGENT            PLATFORMTYPE  \\\n",
              "0  Mozilla/5.0 (Windows NT 10.0; Win64; x64) Appl...  Online Medical Journal   \n",
              "1  Mozilla/5.0 (Macintosh; Intel Mac OS X 10_15_7...  Online Medical Journal   \n",
              "2  Mozilla/5.0 (Macintosh; Intel Mac OS X 10_15_7...  Online Medical Journal   \n",
              "3  Mozilla/5.0 (Windows NT 10.0; Win64; x64) Appl...  Online Medical Journal   \n",
              "4  Mozilla/5.0 (iPhone; CPU iPhone OS 16_1_1 like...  Online Medical Journal   \n",
              "\n",
              "  CHANNELTYPE                                                URL  \\\n",
              "0     Website  https://www.cancertherapyadvisor.com/home/canc...   \n",
              "1     Website  https://www.cancertherapyadvisor.com/home/deci...   \n",
              "2     Website  https://www.cancertherapyadvisor.com/home/canc...   \n",
              "3     Website  https://globalrph.com/medcalcs/warfarin-mainte...   \n",
              "4     Website  https://www.cureus.com/articles/58184-a-review...   \n",
              "\n",
              "                                            KEYWORDS    TAXONOMY  IS_HCP  \n",
              "0  General|Endocrine|False|Medicine|Surgery|Urolo...         NaN     0.0  \n",
              "1  Bone Marrow|Radiography|Chronic|Oncology|Psych...         NaN     0.0  \n",
              "2  General|Endocrine|False|Medicine|Surgery|Urolo...         NaN     0.0  \n",
              "3  Dental|Total|Clinical|Pharmacology|Physicians|...  2084P0800X     1.0  \n",
              "4  Critical Care|Emergency Medicine|General Pract...         NaN     0.0  "
            ],
            "text/html": [
              "\n",
              "  <div id=\"df-e6dc76a1-ff0d-4c96-8ff5-c13bb88aaacf\">\n",
              "    <div class=\"colab-df-container\">\n",
              "      <div>\n",
              "<style scoped>\n",
              "    .dataframe tbody tr th:only-of-type {\n",
              "        vertical-align: middle;\n",
              "    }\n",
              "\n",
              "    .dataframe tbody tr th {\n",
              "        vertical-align: top;\n",
              "    }\n",
              "\n",
              "    .dataframe thead th {\n",
              "        text-align: right;\n",
              "    }\n",
              "</style>\n",
              "<table border=\"1\" class=\"dataframe\">\n",
              "  <thead>\n",
              "    <tr style=\"text-align: right;\">\n",
              "      <th></th>\n",
              "      <th>ID</th>\n",
              "      <th>DEVICETYPE</th>\n",
              "      <th>PLATFORM_ID</th>\n",
              "      <th>BIDREQUESTIP</th>\n",
              "      <th>USERPLATFORMUID</th>\n",
              "      <th>USERCITY</th>\n",
              "      <th>USERZIPCODE</th>\n",
              "      <th>USERAGENT</th>\n",
              "      <th>PLATFORMTYPE</th>\n",
              "      <th>CHANNELTYPE</th>\n",
              "      <th>URL</th>\n",
              "      <th>KEYWORDS</th>\n",
              "      <th>TAXONOMY</th>\n",
              "      <th>IS_HCP</th>\n",
              "    </tr>\n",
              "  </thead>\n",
              "  <tbody>\n",
              "    <tr>\n",
              "      <th>0</th>\n",
              "      <td>1001</td>\n",
              "      <td>Desktop</td>\n",
              "      <td>2</td>\n",
              "      <td>170.173.0.22</td>\n",
              "      <td>6974dcaa-f932-480e-9fb5-c52e20e1393a</td>\n",
              "      <td>Portland</td>\n",
              "      <td>97206.0</td>\n",
              "      <td>Mozilla/5.0 (Windows NT 10.0; Win64; x64) Appl...</td>\n",
              "      <td>Online Medical Journal</td>\n",
              "      <td>Website</td>\n",
              "      <td>https://www.cancertherapyadvisor.com/home/canc...</td>\n",
              "      <td>General|Endocrine|False|Medicine|Surgery|Urolo...</td>\n",
              "      <td>NaN</td>\n",
              "      <td>0.0</td>\n",
              "    </tr>\n",
              "    <tr>\n",
              "      <th>1</th>\n",
              "      <td>1002</td>\n",
              "      <td>Desktop</td>\n",
              "      <td>2</td>\n",
              "      <td>65.216.253.25</td>\n",
              "      <td>c12f3f8f-8fcf-484a-90e1-1ac04db8cdcf</td>\n",
              "      <td>Arlington</td>\n",
              "      <td>22202.0</td>\n",
              "      <td>Mozilla/5.0 (Macintosh; Intel Mac OS X 10_15_7...</td>\n",
              "      <td>Online Medical Journal</td>\n",
              "      <td>Website</td>\n",
              "      <td>https://www.cancertherapyadvisor.com/home/deci...</td>\n",
              "      <td>Bone Marrow|Radiography|Chronic|Oncology|Psych...</td>\n",
              "      <td>NaN</td>\n",
              "      <td>0.0</td>\n",
              "    </tr>\n",
              "    <tr>\n",
              "      <th>2</th>\n",
              "      <td>1003</td>\n",
              "      <td>Desktop</td>\n",
              "      <td>2</td>\n",
              "      <td>66.232.79.22</td>\n",
              "      <td>a698de4b-e200-46dd-b5fb-40402175ae18</td>\n",
              "      <td>New Meadows</td>\n",
              "      <td>83654.0</td>\n",
              "      <td>Mozilla/5.0 (Macintosh; Intel Mac OS X 10_15_7...</td>\n",
              "      <td>Online Medical Journal</td>\n",
              "      <td>Website</td>\n",
              "      <td>https://www.cancertherapyadvisor.com/home/canc...</td>\n",
              "      <td>General|Endocrine|False|Medicine|Surgery|Urolo...</td>\n",
              "      <td>NaN</td>\n",
              "      <td>0.0</td>\n",
              "    </tr>\n",
              "    <tr>\n",
              "      <th>3</th>\n",
              "      <td>1004</td>\n",
              "      <td>Desktop</td>\n",
              "      <td>3</td>\n",
              "      <td>137.54.125.246</td>\n",
              "      <td>45967533-75c8-4fbd-a00c-e6ff20447aaa</td>\n",
              "      <td>NaN</td>\n",
              "      <td>229114624.0</td>\n",
              "      <td>Mozilla/5.0 (Windows NT 10.0; Win64; x64) Appl...</td>\n",
              "      <td>Online Medical Journal</td>\n",
              "      <td>Website</td>\n",
              "      <td>https://globalrph.com/medcalcs/warfarin-mainte...</td>\n",
              "      <td>Dental|Total|Clinical|Pharmacology|Physicians|...</td>\n",
              "      <td>2084P0800X</td>\n",
              "      <td>1.0</td>\n",
              "    </tr>\n",
              "    <tr>\n",
              "      <th>4</th>\n",
              "      <td>1005</td>\n",
              "      <td>Mobile</td>\n",
              "      <td>7</td>\n",
              "      <td>174.202.231.99</td>\n",
              "      <td>a17e25be-532d-4cf5-b916-9308c8c3961f</td>\n",
              "      <td>Houston</td>\n",
              "      <td>77008.0</td>\n",
              "      <td>Mozilla/5.0 (iPhone; CPU iPhone OS 16_1_1 like...</td>\n",
              "      <td>Online Medical Journal</td>\n",
              "      <td>Website</td>\n",
              "      <td>https://www.cureus.com/articles/58184-a-review...</td>\n",
              "      <td>Critical Care|Emergency Medicine|General Pract...</td>\n",
              "      <td>NaN</td>\n",
              "      <td>0.0</td>\n",
              "    </tr>\n",
              "  </tbody>\n",
              "</table>\n",
              "</div>\n",
              "      <button class=\"colab-df-convert\" onclick=\"convertToInteractive('df-e6dc76a1-ff0d-4c96-8ff5-c13bb88aaacf')\"\n",
              "              title=\"Convert this dataframe to an interactive table.\"\n",
              "              style=\"display:none;\">\n",
              "        \n",
              "  <svg xmlns=\"http://www.w3.org/2000/svg\" height=\"24px\"viewBox=\"0 0 24 24\"\n",
              "       width=\"24px\">\n",
              "    <path d=\"M0 0h24v24H0V0z\" fill=\"none\"/>\n",
              "    <path d=\"M18.56 5.44l.94 2.06.94-2.06 2.06-.94-2.06-.94-.94-2.06-.94 2.06-2.06.94zm-11 1L8.5 8.5l.94-2.06 2.06-.94-2.06-.94L8.5 2.5l-.94 2.06-2.06.94zm10 10l.94 2.06.94-2.06 2.06-.94-2.06-.94-.94-2.06-.94 2.06-2.06.94z\"/><path d=\"M17.41 7.96l-1.37-1.37c-.4-.4-.92-.59-1.43-.59-.52 0-1.04.2-1.43.59L10.3 9.45l-7.72 7.72c-.78.78-.78 2.05 0 2.83L4 21.41c.39.39.9.59 1.41.59.51 0 1.02-.2 1.41-.59l7.78-7.78 2.81-2.81c.8-.78.8-2.07 0-2.86zM5.41 20L4 18.59l7.72-7.72 1.47 1.35L5.41 20z\"/>\n",
              "  </svg>\n",
              "      </button>\n",
              "      \n",
              "  <style>\n",
              "    .colab-df-container {\n",
              "      display:flex;\n",
              "      flex-wrap:wrap;\n",
              "      gap: 12px;\n",
              "    }\n",
              "\n",
              "    .colab-df-convert {\n",
              "      background-color: #E8F0FE;\n",
              "      border: none;\n",
              "      border-radius: 50%;\n",
              "      cursor: pointer;\n",
              "      display: none;\n",
              "      fill: #1967D2;\n",
              "      height: 32px;\n",
              "      padding: 0 0 0 0;\n",
              "      width: 32px;\n",
              "    }\n",
              "\n",
              "    .colab-df-convert:hover {\n",
              "      background-color: #E2EBFA;\n",
              "      box-shadow: 0px 1px 2px rgba(60, 64, 67, 0.3), 0px 1px 3px 1px rgba(60, 64, 67, 0.15);\n",
              "      fill: #174EA6;\n",
              "    }\n",
              "\n",
              "    [theme=dark] .colab-df-convert {\n",
              "      background-color: #3B4455;\n",
              "      fill: #D2E3FC;\n",
              "    }\n",
              "\n",
              "    [theme=dark] .colab-df-convert:hover {\n",
              "      background-color: #434B5C;\n",
              "      box-shadow: 0px 1px 3px 1px rgba(0, 0, 0, 0.15);\n",
              "      filter: drop-shadow(0px 1px 2px rgba(0, 0, 0, 0.3));\n",
              "      fill: #FFFFFF;\n",
              "    }\n",
              "  </style>\n",
              "\n",
              "      <script>\n",
              "        const buttonEl =\n",
              "          document.querySelector('#df-e6dc76a1-ff0d-4c96-8ff5-c13bb88aaacf button.colab-df-convert');\n",
              "        buttonEl.style.display =\n",
              "          google.colab.kernel.accessAllowed ? 'block' : 'none';\n",
              "\n",
              "        async function convertToInteractive(key) {\n",
              "          const element = document.querySelector('#df-e6dc76a1-ff0d-4c96-8ff5-c13bb88aaacf');\n",
              "          const dataTable =\n",
              "            await google.colab.kernel.invokeFunction('convertToInteractive',\n",
              "                                                     [key], {});\n",
              "          if (!dataTable) return;\n",
              "\n",
              "          const docLinkHtml = 'Like what you see? Visit the ' +\n",
              "            '<a target=\"_blank\" href=https://colab.research.google.com/notebooks/data_table.ipynb>data table notebook</a>'\n",
              "            + ' to learn more about interactive tables.';\n",
              "          element.innerHTML = '';\n",
              "          dataTable['output_type'] = 'display_data';\n",
              "          await google.colab.output.renderOutput(dataTable, element);\n",
              "          const docLink = document.createElement('div');\n",
              "          docLink.innerHTML = docLinkHtml;\n",
              "          element.appendChild(docLink);\n",
              "        }\n",
              "      </script>\n",
              "    </div>\n",
              "  </div>\n",
              "  "
            ]
          },
          "metadata": {},
          "execution_count": 63
        }
      ]
    },
    {
      "cell_type": "code",
      "execution_count": null,
      "id": "IkmE2o7gmLYW",
      "metadata": {
        "colab": {
          "base_uri": "https://localhost:8080/"
        },
        "id": "IkmE2o7gmLYW",
        "outputId": "4827615d-efc5-49c4-cc9e-10116ba48c24"
      },
      "outputs": [
        {
          "output_type": "stream",
          "name": "stdout",
          "text": [
            "no of nan values :  1\n"
          ]
        }
      ],
      "source": [
        "print(\"no of nan values : \" ,df['IS_HCP'].isna().sum())"
      ]
    },
    {
      "cell_type": "code",
      "execution_count": null,
      "id": "2b12bf78",
      "metadata": {
        "colab": {
          "base_uri": "https://localhost:8080/"
        },
        "id": "2b12bf78",
        "outputId": "08c8d3d6-c079-48c5-e63b-39b7fc3f0ba1"
      },
      "outputs": [
        {
          "output_type": "stream",
          "name": "stdout",
          "text": [
            "no of nan values :  44921\n",
            "2084P0800X    4391\n",
            "2084N0400X    3634\n",
            "207Q00000X    2166\n",
            "207R00000X    1732\n",
            "208000000X     469\n",
            "              ... \n",
            "2086X0206X       1\n",
            "207WX0200X       1\n",
            "111N00000X       1\n",
            "2086S0129X       1\n",
            "207ND0101X       1\n",
            "Name: TAXONOMY, Length: 189, dtype: int64\n"
          ]
        }
      ],
      "source": [
        "print(\"no of nan values : \" ,df['TAXONOMY'].isna().sum())\n",
        "print(df.TAXONOMY.value_counts())"
      ]
    },
    {
      "cell_type": "code",
      "execution_count": null,
      "id": "fc4ab65d",
      "metadata": {
        "colab": {
          "base_uri": "https://localhost:8080/"
        },
        "id": "fc4ab65d",
        "outputId": "d2de2092-db29-49c3-e0dc-2622ef0b0c99"
      },
      "outputs": [
        {
          "output_type": "stream",
          "name": "stdout",
          "text": [
            "<class 'pandas.core.frame.DataFrame'>\n",
            "RangeIndex: 62723 entries, 0 to 62722\n",
            "Data columns (total 14 columns):\n",
            " #   Column           Non-Null Count  Dtype  \n",
            "---  ------           --------------  -----  \n",
            " 0   ID               62723 non-null  int64  \n",
            " 1   DEVICETYPE       62723 non-null  object \n",
            " 2   PLATFORM_ID      62723 non-null  int64  \n",
            " 3   BIDREQUESTIP     62723 non-null  object \n",
            " 4   USERPLATFORMUID  62722 non-null  object \n",
            " 5   USERCITY         59226 non-null  object \n",
            " 6   USERZIPCODE      60213 non-null  float64\n",
            " 7   USERAGENT        62722 non-null  object \n",
            " 8   PLATFORMTYPE     62723 non-null  object \n",
            " 9   CHANNELTYPE      62723 non-null  object \n",
            " 10  URL              62723 non-null  object \n",
            " 11  KEYWORDS         62723 non-null  object \n",
            " 12  TAXONOMY         17802 non-null  object \n",
            " 13  IS_HCP           62722 non-null  float64\n",
            "dtypes: float64(2), int64(2), object(10)\n",
            "memory usage: 6.7+ MB\n"
          ]
        }
      ],
      "source": [
        "df.info()"
      ]
    },
    {
      "cell_type": "code",
      "execution_count": null,
      "id": "7538ce03",
      "metadata": {
        "colab": {
          "base_uri": "https://localhost:8080/"
        },
        "id": "7538ce03",
        "outputId": "9a876902-2511-4053-fe5c-81517d555689"
      },
      "outputs": [
        {
          "output_type": "execute_result",
          "data": {
            "text/plain": [
              "ID                   int64\n",
              "DEVICETYPE          object\n",
              "PLATFORM_ID          int64\n",
              "BIDREQUESTIP        object\n",
              "USERPLATFORMUID     object\n",
              "USERCITY            object\n",
              "USERZIPCODE        float64\n",
              "USERAGENT           object\n",
              "PLATFORMTYPE        object\n",
              "CHANNELTYPE         object\n",
              "URL                 object\n",
              "KEYWORDS            object\n",
              "TAXONOMY            object\n",
              "IS_HCP             float64\n",
              "dtype: object"
            ]
          },
          "metadata": {},
          "execution_count": 67
        }
      ],
      "source": [
        "df.dtypes"
      ]
    },
    {
      "cell_type": "code",
      "execution_count": null,
      "id": "351b89a2",
      "metadata": {
        "id": "351b89a2",
        "outputId": "899a640e-ada9-423b-f90f-b24902f1aa2a",
        "colab": {
          "base_uri": "https://localhost:8080/",
          "height": 492
        }
      },
      "outputs": [
        {
          "output_type": "stream",
          "name": "stderr",
          "text": [
            "<ipython-input-68-11928c89b839>:1: FutureWarning: The default value of numeric_only in DataFrame.corr is deprecated. In a future version, it will default to False. Select only valid columns or specify the value of numeric_only to silence this warning.\n",
            "  plt.matshow(df.corr())\n"
          ]
        },
        {
          "output_type": "display_data",
          "data": {
            "text/plain": [
              "<Figure size 480x480 with 1 Axes>"
            ],
            "image/png": "[encoded data removed]"
          },
          "metadata": {}
        }
      ],
      "source": [
        "plt.matshow(df.corr())\n",
        "plt.show()"
      ]
    },
    {
      "cell_type": "code",
      "execution_count": null,
      "id": "fe05510f",
      "metadata": {
        "id": "fe05510f"
      },
      "outputs": [],
      "source": [
        "a=df[[\"TAXONOMY\",\"IS_HCP\"]]"
      ]
    },
    {
      "cell_type": "code",
      "execution_count": null,
      "id": "42d56f40",
      "metadata": {
        "colab": {
          "base_uri": "https://localhost:8080/"
        },
        "id": "42d56f40",
        "outputId": "bdfccc3b-6310-4d9c-d493-a4ebd5d75dc2"
      },
      "outputs": [
        {
          "output_type": "stream",
          "name": "stdout",
          "text": [
            "      TAXONOMY  IS_HCP\n",
            "0          NaN     0.0\n",
            "1          NaN     0.0\n",
            "2          NaN     0.0\n",
            "3   2084P0800X     1.0\n",
            "4          NaN     0.0\n",
            "5          NaN     0.0\n",
            "6          NaN     0.0\n",
            "7          NaN     0.0\n",
            "8   2084P0804X     1.0\n",
            "9          NaN     0.0\n",
            "10         NaN     0.0\n",
            "11         NaN     0.0\n",
            "12         NaN     0.0\n",
            "13         NaN     0.0\n",
            "14         NaN     0.0\n",
            "15         NaN     0.0\n",
            "16         NaN     0.0\n",
            "17         NaN     0.0\n",
            "18         NaN     0.0\n",
            "19         NaN     0.0\n",
            "20         NaN     0.0\n",
            "21  2084N0400X     1.0\n",
            "22         NaN     0.0\n",
            "23         NaN     0.0\n",
            "24         NaN     0.0\n",
            "25         NaN     0.0\n",
            "26         NaN     0.0\n",
            "27         NaN     0.0\n",
            "28         NaN     0.0\n",
            "29  2084V0102X     1.0\n",
            "30         NaN     0.0\n",
            "31         NaN     0.0\n",
            "32         NaN     0.0\n",
            "33         NaN     0.0\n",
            "34         NaN     0.0\n",
            "35  207RC0000X     1.0\n",
            "36         NaN     0.0\n",
            "37         NaN     0.0\n",
            "38         NaN     0.0\n",
            "39         NaN     0.0\n",
            "40         NaN     0.0\n",
            "41         NaN     0.0\n",
            "42         NaN     0.0\n",
            "43         NaN     0.0\n",
            "44         NaN     0.0\n",
            "45         NaN     0.0\n",
            "46         NaN     0.0\n",
            "47         NaN     0.0\n",
            "48         NaN     0.0\n",
            "49         NaN     0.0\n"
          ]
        }
      ],
      "source": [
        "print(a.iloc[:50])"
      ]
    },
    {
      "cell_type": "code",
      "execution_count": null,
      "id": "TaoIRD7pkir_",
      "metadata": {
        "colab": {
          "base_uri": "https://localhost:8080/"
        },
        "id": "TaoIRD7pkir_",
        "outputId": "e2fc6d60-b7b6-47b8-be08-0f0e1434d1c0"
      },
      "outputs": [
        {
          "output_type": "execute_result",
          "data": {
            "text/plain": [
              "2084P0800X    4391\n",
              "2084N0400X    3634\n",
              "207Q00000X    2166\n",
              "207R00000X    1732\n",
              "208000000X     469\n",
              "              ... \n",
              "2086X0206X       1\n",
              "207WX0200X       1\n",
              "111N00000X       1\n",
              "2086S0129X       1\n",
              "207ND0101X       1\n",
              "Name: TAXONOMY, Length: 189, dtype: int64"
            ]
          },
          "metadata": {},
          "execution_count": 71
        }
      ],
      "source": [
        "df['TAXONOMY'].value_counts()"
      ]
    },
    {
      "cell_type": "code",
      "execution_count": 16,
      "id": "5GoJE0XUzj3J",
      "metadata": {
        "id": "5GoJE0XUzj3J"
      },
      "outputs": [],
      "source": [
        "def scale(x):\n",
        "  sclr = StandardScaler()\n",
        "  x = sclr.fit_transform(x)\n",
        "  return x"
      ]
    },
    {
      "cell_type": "code",
      "execution_count": 17,
      "id": "8yIjKF8SaZYI",
      "metadata": {
        "id": "8yIjKF8SaZYI"
      },
      "outputs": [],
      "source": [
        "def ohe(df,col):\n",
        "  df = pd.get_dummies(df,columns = [col])\n",
        "  return df"
      ]
    },
    {
      "cell_type": "code",
      "execution_count": 91,
      "id": "ulzuh9S_dlrT",
      "metadata": {
        "id": "ulzuh9S_dlrT"
      },
      "outputs": [],
      "source": [
        "def drp(df):\n",
        "  df.drop(['USERPLATFORMUID','USERCITY','USERAGENT','CHANNELTYPE','URL'],axis = 1,inplace = True)\n",
        "  return df"
      ]
    },
    {
      "cell_type": "markdown",
      "source": [
        "i have already vectorized the data not running coz it takes up a lot of ram"
      ],
      "metadata": {
        "id": "BM4zZv3D-rEr"
      },
      "id": "BM4zZv3D-rEr"
    },
    {
      "cell_type": "code",
      "source": [
        "tfidf = TfidfVectorizer(tokenizer=lambda x: x.split('|'))\n",
        "vectorizer = TfidfVectorizer()"
      ],
      "metadata": {
        "id": "LR9t2swlkP30"
      },
      "id": "LR9t2swlkP30",
      "execution_count": 19,
      "outputs": []
    },
    {
      "cell_type": "code",
      "execution_count": null,
      "id": "LfHdFRj6rxpH",
      "metadata": {
        "id": "LfHdFRj6rxpH"
      },
      "outputs": [],
      "source": [
        "#feature_matrix=vectorizer_1.fit_transform(df[\"BIDREQUESTIP\"])\n",
        "#vectorized_bidrequestip=pd.DataFrame(feature_matrix.toarray())\n",
        "#vectorizer_2 = TfidfVectorizer(tokenizer=lambda x: x.split('|'))\n",
        "#tfidf_matrix = vectorizer_2.fit_transform(df['KEYWORDS'])\n",
        "#vectorized_keywords = pd.DataFrame(tfidf_matrix.toarray(), columns=vectorizer_2.get_feature_names_out())\n",
        "#df = pd.concat([df,vectorized_bidrequestip,vectorized_keywords],axis = 1)\n",
        "#df.drop(['BIDREQUESTIP','KEYWORDS'],axis = 1,inplace = True)"
      ]
    },
    {
      "cell_type": "code",
      "source": [
        "bid = vectorizer.fit_transform(df['BIDREQUESTIP'])\n",
        "bid = pd.DataFrame(bid.toarray())"
      ],
      "metadata": {
        "id": "xh-no4zBlm7Z"
      },
      "id": "xh-no4zBlm7Z",
      "execution_count": 20,
      "outputs": []
    },
    {
      "cell_type": "code",
      "source": [
        "kywrd = tfidf.fit_transform(df['KEYWORDS'])\n",
        "kywrd = pd.DataFrame(kywrd.toarray(),columns =tfidf.get_feature_names_out())"
      ],
      "metadata": {
        "colab": {
          "base_uri": "https://localhost:8080/"
        },
        "id": "l-ejId1srcsm",
        "outputId": "7274c10d-ce19-40c6-b8b5-6551e562cf46"
      },
      "id": "l-ejId1srcsm",
      "execution_count": 21,
      "outputs": [
        {
          "output_type": "stream",
          "name": "stderr",
          "text": [
            "/usr/local/lib/python3.10/dist-packages/sklearn/feature_extraction/text.py:528: UserWarning: The parameter 'token_pattern' will not be used since 'tokenizer' is not None'\n",
            "  warnings.warn(\n"
          ]
        }
      ]
    },
    {
      "cell_type": "markdown",
      "source": [
        "these ouputs also take up a lot of ram\n"
      ],
      "metadata": {
        "id": "O1V1PDdA5TE4"
      },
      "id": "O1V1PDdA5TE4"
    },
    {
      "cell_type": "code",
      "source": [
        "bid.head()"
      ],
      "metadata": {
        "colab": {
          "base_uri": "https://localhost:8080/",
          "height": 235
        },
        "id": "-fvDB-5znPOS",
        "outputId": "d3fef653-09b2-4411-ea3a-595b0cf2fa27"
      },
      "id": "-fvDB-5znPOS",
      "execution_count": null,
      "outputs": [
        {
          "output_type": "execute_result",
          "data": {
            "text/plain": [
              "   0    1    2    3    4    5    6    7    8    9    ...  236  237  238  239  \\\n",
              "0  0.0  0.0  0.0  0.0  0.0  0.0  0.0  0.0  0.0  0.0  ...  0.0  0.0  0.0  0.0   \n",
              "1  0.0  0.0  0.0  0.0  0.0  0.0  0.0  0.0  0.0  0.0  ...  0.0  0.0  0.0  0.0   \n",
              "2  0.0  0.0  0.0  0.0  0.0  0.0  0.0  0.0  0.0  0.0  ...  0.0  0.0  0.0  0.0   \n",
              "3  0.0  0.0  0.0  0.0  0.0  0.0  0.0  0.0  0.0  0.0  ...  0.0  0.0  0.0  0.0   \n",
              "4  0.0  0.0  0.0  0.0  0.0  0.0  0.0  0.0  0.0  0.0  ...  0.0  0.0  0.0  0.0   \n",
              "\n",
              "   240  241  242  243  244      245  \n",
              "0  0.0  0.0  0.0  0.0  0.0  0.00000  \n",
              "1  0.0  0.0  0.0  0.0  0.0  0.00000  \n",
              "2  0.0  0.0  0.0  0.0  0.0  0.00000  \n",
              "3  0.0  0.0  0.0  0.0  0.0  0.00000  \n",
              "4  0.0  0.0  0.0  0.0  0.0  0.48034  \n",
              "\n",
              "[5 rows x 246 columns]"
            ],
            "text/html": [
              "\n",
              "  <div id=\"df-61750e94-4d28-419f-83a6-19ad6e2ef22c\">\n",
              "    <div class=\"colab-df-container\">\n",
              "      <div>\n",
              "<style scoped>\n",
              "    .dataframe tbody tr th:only-of-type {\n",
              "        vertical-align: middle;\n",
              "    }\n",
              "\n",
              "    .dataframe tbody tr th {\n",
              "        vertical-align: top;\n",
              "    }\n",
              "\n",
              "    .dataframe thead th {\n",
              "        text-align: right;\n",
              "    }\n",
              "</style>\n",
              "<table border=\"1\" class=\"dataframe\">\n",
              "  <thead>\n",
              "    <tr style=\"text-align: right;\">\n",
              "      <th></th>\n",
              "      <th>0</th>\n",
              "      <th>1</th>\n",
              "      <th>2</th>\n",
              "      <th>3</th>\n",
              "      <th>4</th>\n",
              "      <th>5</th>\n",
              "      <th>6</th>\n",
              "      <th>7</th>\n",
              "      <th>8</th>\n",
              "      <th>9</th>\n",
              "      <th>...</th>\n",
              "      <th>236</th>\n",
              "      <th>237</th>\n",
              "      <th>238</th>\n",
              "      <th>239</th>\n",
              "      <th>240</th>\n",
              "      <th>241</th>\n",
              "      <th>242</th>\n",
              "      <th>243</th>\n",
              "      <th>244</th>\n",
              "      <th>245</th>\n",
              "    </tr>\n",
              "  </thead>\n",
              "  <tbody>\n",
              "    <tr>\n",
              "      <th>0</th>\n",
              "      <td>0.0</td>\n",
              "      <td>0.0</td>\n",
              "      <td>0.0</td>\n",
              "      <td>0.0</td>\n",
              "      <td>0.0</td>\n",
              "      <td>0.0</td>\n",
              "      <td>0.0</td>\n",
              "      <td>0.0</td>\n",
              "      <td>0.0</td>\n",
              "      <td>0.0</td>\n",
              "      <td>...</td>\n",
              "      <td>0.0</td>\n",
              "      <td>0.0</td>\n",
              "      <td>0.0</td>\n",
              "      <td>0.0</td>\n",
              "      <td>0.0</td>\n",
              "      <td>0.0</td>\n",
              "      <td>0.0</td>\n",
              "      <td>0.0</td>\n",
              "      <td>0.0</td>\n",
              "      <td>0.00000</td>\n",
              "    </tr>\n",
              "    <tr>\n",
              "      <th>1</th>\n",
              "      <td>0.0</td>\n",
              "      <td>0.0</td>\n",
              "      <td>0.0</td>\n",
              "      <td>0.0</td>\n",
              "      <td>0.0</td>\n",
              "      <td>0.0</td>\n",
              "      <td>0.0</td>\n",
              "      <td>0.0</td>\n",
              "      <td>0.0</td>\n",
              "      <td>0.0</td>\n",
              "      <td>...</td>\n",
              "      <td>0.0</td>\n",
              "      <td>0.0</td>\n",
              "      <td>0.0</td>\n",
              "      <td>0.0</td>\n",
              "      <td>0.0</td>\n",
              "      <td>0.0</td>\n",
              "      <td>0.0</td>\n",
              "      <td>0.0</td>\n",
              "      <td>0.0</td>\n",
              "      <td>0.00000</td>\n",
              "    </tr>\n",
              "    <tr>\n",
              "      <th>2</th>\n",
              "      <td>0.0</td>\n",
              "      <td>0.0</td>\n",
              "      <td>0.0</td>\n",
              "      <td>0.0</td>\n",
              "      <td>0.0</td>\n",
              "      <td>0.0</td>\n",
              "      <td>0.0</td>\n",
              "      <td>0.0</td>\n",
              "      <td>0.0</td>\n",
              "      <td>0.0</td>\n",
              "      <td>...</td>\n",
              "      <td>0.0</td>\n",
              "      <td>0.0</td>\n",
              "      <td>0.0</td>\n",
              "      <td>0.0</td>\n",
              "      <td>0.0</td>\n",
              "      <td>0.0</td>\n",
              "      <td>0.0</td>\n",
              "      <td>0.0</td>\n",
              "      <td>0.0</td>\n",
              "      <td>0.00000</td>\n",
              "    </tr>\n",
              "    <tr>\n",
              "      <th>3</th>\n",
              "      <td>0.0</td>\n",
              "      <td>0.0</td>\n",
              "      <td>0.0</td>\n",
              "      <td>0.0</td>\n",
              "      <td>0.0</td>\n",
              "      <td>0.0</td>\n",
              "      <td>0.0</td>\n",
              "      <td>0.0</td>\n",
              "      <td>0.0</td>\n",
              "      <td>0.0</td>\n",
              "      <td>...</td>\n",
              "      <td>0.0</td>\n",
              "      <td>0.0</td>\n",
              "      <td>0.0</td>\n",
              "      <td>0.0</td>\n",
              "      <td>0.0</td>\n",
              "      <td>0.0</td>\n",
              "      <td>0.0</td>\n",
              "      <td>0.0</td>\n",
              "      <td>0.0</td>\n",
              "      <td>0.00000</td>\n",
              "    </tr>\n",
              "    <tr>\n",
              "      <th>4</th>\n",
              "      <td>0.0</td>\n",
              "      <td>0.0</td>\n",
              "      <td>0.0</td>\n",
              "      <td>0.0</td>\n",
              "      <td>0.0</td>\n",
              "      <td>0.0</td>\n",
              "      <td>0.0</td>\n",
              "      <td>0.0</td>\n",
              "      <td>0.0</td>\n",
              "      <td>0.0</td>\n",
              "      <td>...</td>\n",
              "      <td>0.0</td>\n",
              "      <td>0.0</td>\n",
              "      <td>0.0</td>\n",
              "      <td>0.0</td>\n",
              "      <td>0.0</td>\n",
              "      <td>0.0</td>\n",
              "      <td>0.0</td>\n",
              "      <td>0.0</td>\n",
              "      <td>0.0</td>\n",
              "      <td>0.48034</td>\n",
              "    </tr>\n",
              "  </tbody>\n",
              "</table>\n",
              "<p>5 rows × 246 columns</p>\n",
              "</div>\n",
              "      <button class=\"colab-df-convert\" onclick=\"convertToInteractive('df-61750e94-4d28-419f-83a6-19ad6e2ef22c')\"\n",
              "              title=\"Convert this dataframe to an interactive table.\"\n",
              "              style=\"display:none;\">\n",
              "        \n",
              "  <svg xmlns=\"http://www.w3.org/2000/svg\" height=\"24px\"viewBox=\"0 0 24 24\"\n",
              "       width=\"24px\">\n",
              "    <path d=\"M0 0h24v24H0V0z\" fill=\"none\"/>\n",
              "    <path d=\"M18.56 5.44l.94 2.06.94-2.06 2.06-.94-2.06-.94-.94-2.06-.94 2.06-2.06.94zm-11 1L8.5 8.5l.94-2.06 2.06-.94-2.06-.94L8.5 2.5l-.94 2.06-2.06.94zm10 10l.94 2.06.94-2.06 2.06-.94-2.06-.94-.94-2.06-.94 2.06-2.06.94z\"/><path d=\"M17.41 7.96l-1.37-1.37c-.4-.4-.92-.59-1.43-.59-.52 0-1.04.2-1.43.59L10.3 9.45l-7.72 7.72c-.78.78-.78 2.05 0 2.83L4 21.41c.39.39.9.59 1.41.59.51 0 1.02-.2 1.41-.59l7.78-7.78 2.81-2.81c.8-.78.8-2.07 0-2.86zM5.41 20L4 18.59l7.72-7.72 1.47 1.35L5.41 20z\"/>\n",
              "  </svg>\n",
              "      </button>\n",
              "      \n",
              "  <style>\n",
              "    .colab-df-container {\n",
              "      display:flex;\n",
              "      flex-wrap:wrap;\n",
              "      gap: 12px;\n",
              "    }\n",
              "\n",
              "    .colab-df-convert {\n",
              "      background-color: #E8F0FE;\n",
              "      border: none;\n",
              "      border-radius: 50%;\n",
              "      cursor: pointer;\n",
              "      display: none;\n",
              "      fill: #1967D2;\n",
              "      height: 32px;\n",
              "      padding: 0 0 0 0;\n",
              "      width: 32px;\n",
              "    }\n",
              "\n",
              "    .colab-df-convert:hover {\n",
              "      background-color: #E2EBFA;\n",
              "      box-shadow: 0px 1px 2px rgba(60, 64, 67, 0.3), 0px 1px 3px 1px rgba(60, 64, 67, 0.15);\n",
              "      fill: #174EA6;\n",
              "    }\n",
              "\n",
              "    [theme=dark] .colab-df-convert {\n",
              "      background-color: #3B4455;\n",
              "      fill: #D2E3FC;\n",
              "    }\n",
              "\n",
              "    [theme=dark] .colab-df-convert:hover {\n",
              "      background-color: #434B5C;\n",
              "      box-shadow: 0px 1px 3px 1px rgba(0, 0, 0, 0.15);\n",
              "      filter: drop-shadow(0px 1px 2px rgba(0, 0, 0, 0.3));\n",
              "      fill: #FFFFFF;\n",
              "    }\n",
              "  </style>\n",
              "\n",
              "      <script>\n",
              "        const buttonEl =\n",
              "          document.querySelector('#df-61750e94-4d28-419f-83a6-19ad6e2ef22c button.colab-df-convert');\n",
              "        buttonEl.style.display =\n",
              "          google.colab.kernel.accessAllowed ? 'block' : 'none';\n",
              "\n",
              "        async function convertToInteractive(key) {\n",
              "          const element = document.querySelector('#df-61750e94-4d28-419f-83a6-19ad6e2ef22c');\n",
              "          const dataTable =\n",
              "            await google.colab.kernel.invokeFunction('convertToInteractive',\n",
              "                                                     [key], {});\n",
              "          if (!dataTable) return;\n",
              "\n",
              "          const docLinkHtml = 'Like what you see? Visit the ' +\n",
              "            '<a target=\"_blank\" href=https://colab.research.google.com/notebooks/data_table.ipynb>data table notebook</a>'\n",
              "            + ' to learn more about interactive tables.';\n",
              "          element.innerHTML = '';\n",
              "          dataTable['output_type'] = 'display_data';\n",
              "          await google.colab.output.renderOutput(dataTable, element);\n",
              "          const docLink = document.createElement('div');\n",
              "          docLink.innerHTML = docLinkHtml;\n",
              "          element.appendChild(docLink);\n",
              "        }\n",
              "      </script>\n",
              "    </div>\n",
              "  </div>\n",
              "  "
            ]
          },
          "metadata": {},
          "execution_count": 11
        }
      ]
    },
    {
      "cell_type": "code",
      "source": [
        "kywrd.head()"
      ],
      "metadata": {
        "colab": {
          "base_uri": "https://localhost:8080/",
          "height": 334
        },
        "id": "JUZ_i1xRr74E",
        "outputId": "c3d9b7ab-1747-4434-bd91-60d5cf269a7c"
      },
      "id": "JUZ_i1xRr74E",
      "execution_count": null,
      "outputs": [
        {
          "output_type": "execute_result",
          "data": {
            "text/plain": [
              "        abatacept  ablation techniques  abortion  abscess  \\\n",
              "0  0.0        0.0                  0.0       0.0      0.0   \n",
              "1  0.0        0.0                  0.0       0.0      0.0   \n",
              "2  0.0        0.0                  0.0       0.0      0.0   \n",
              "3  0.0        0.0                  0.0       0.0      0.0   \n",
              "4  0.0        0.0                  0.0       0.0      0.0   \n",
              "\n",
              "   acanthamoeba keratitis  acetaminophen  acid-base imbalance  aco  acos  ...  \\\n",
              "0                     0.0            0.0                  0.0  0.0   0.0  ...   \n",
              "1                     0.0            0.0                  0.0  0.0   0.0  ...   \n",
              "2                     0.0            0.0                  0.0  0.0   0.0  ...   \n",
              "3                     0.0            0.0                  0.0  0.0   0.0  ...   \n",
              "4                     0.0            0.0                  0.0  0.0   0.0  ...   \n",
              "\n",
              "   wheezing  whipple disease  whole genome sequencing  whooping cough  \\\n",
              "0       0.0              0.0                      0.0             0.0   \n",
              "1       0.0              0.0                      0.0             0.0   \n",
              "2       0.0              0.0                      0.0             0.0   \n",
              "3       0.0              0.0                      0.0             0.0   \n",
              "4       0.0              0.0                      0.0             0.0   \n",
              "\n",
              "   wound infection  yaws  yellow fever  zoonoses  zostavax  \\\n",
              "0              0.0   0.0           0.0       0.0       0.0   \n",
              "1              0.0   0.0           0.0       0.0       0.0   \n",
              "2              0.0   0.0           0.0       0.0       0.0   \n",
              "3              0.0   0.0           0.0       0.0       0.0   \n",
              "4              0.0   0.0           0.0       0.0       0.0   \n",
              "\n",
              "   zoster sine herpete  \n",
              "0                  0.0  \n",
              "1                  0.0  \n",
              "2                  0.0  \n",
              "3                  0.0  \n",
              "4                  0.0  \n",
              "\n",
              "[5 rows x 1216 columns]"
            ],
            "text/html": [
              "\n",
              "  <div id=\"df-e7bf7f2c-52be-41e3-a518-e771f53088e1\">\n",
              "    <div class=\"colab-df-container\">\n",
              "      <div>\n",
              "<style scoped>\n",
              "    .dataframe tbody tr th:only-of-type {\n",
              "        vertical-align: middle;\n",
              "    }\n",
              "\n",
              "    .dataframe tbody tr th {\n",
              "        vertical-align: top;\n",
              "    }\n",
              "\n",
              "    .dataframe thead th {\n",
              "        text-align: right;\n",
              "    }\n",
              "</style>\n",
              "<table border=\"1\" class=\"dataframe\">\n",
              "  <thead>\n",
              "    <tr style=\"text-align: right;\">\n",
              "      <th></th>\n",
              "      <th></th>\n",
              "      <th>abatacept</th>\n",
              "      <th>ablation techniques</th>\n",
              "      <th>abortion</th>\n",
              "      <th>abscess</th>\n",
              "      <th>acanthamoeba keratitis</th>\n",
              "      <th>acetaminophen</th>\n",
              "      <th>acid-base imbalance</th>\n",
              "      <th>aco</th>\n",
              "      <th>acos</th>\n",
              "      <th>...</th>\n",
              "      <th>wheezing</th>\n",
              "      <th>whipple disease</th>\n",
              "      <th>whole genome sequencing</th>\n",
              "      <th>whooping cough</th>\n",
              "      <th>wound infection</th>\n",
              "      <th>yaws</th>\n",
              "      <th>yellow fever</th>\n",
              "      <th>zoonoses</th>\n",
              "      <th>zostavax</th>\n",
              "      <th>zoster sine herpete</th>\n",
              "    </tr>\n",
              "  </thead>\n",
              "  <tbody>\n",
              "    <tr>\n",
              "      <th>0</th>\n",
              "      <td>0.0</td>\n",
              "      <td>0.0</td>\n",
              "      <td>0.0</td>\n",
              "      <td>0.0</td>\n",
              "      <td>0.0</td>\n",
              "      <td>0.0</td>\n",
              "      <td>0.0</td>\n",
              "      <td>0.0</td>\n",
              "      <td>0.0</td>\n",
              "      <td>0.0</td>\n",
              "      <td>...</td>\n",
              "      <td>0.0</td>\n",
              "      <td>0.0</td>\n",
              "      <td>0.0</td>\n",
              "      <td>0.0</td>\n",
              "      <td>0.0</td>\n",
              "      <td>0.0</td>\n",
              "      <td>0.0</td>\n",
              "      <td>0.0</td>\n",
              "      <td>0.0</td>\n",
              "      <td>0.0</td>\n",
              "    </tr>\n",
              "    <tr>\n",
              "      <th>1</th>\n",
              "      <td>0.0</td>\n",
              "      <td>0.0</td>\n",
              "      <td>0.0</td>\n",
              "      <td>0.0</td>\n",
              "      <td>0.0</td>\n",
              "      <td>0.0</td>\n",
              "      <td>0.0</td>\n",
              "      <td>0.0</td>\n",
              "      <td>0.0</td>\n",
              "      <td>0.0</td>\n",
              "      <td>...</td>\n",
              "      <td>0.0</td>\n",
              "      <td>0.0</td>\n",
              "      <td>0.0</td>\n",
              "      <td>0.0</td>\n",
              "      <td>0.0</td>\n",
              "      <td>0.0</td>\n",
              "      <td>0.0</td>\n",
              "      <td>0.0</td>\n",
              "      <td>0.0</td>\n",
              "      <td>0.0</td>\n",
              "    </tr>\n",
              "    <tr>\n",
              "      <th>2</th>\n",
              "      <td>0.0</td>\n",
              "      <td>0.0</td>\n",
              "      <td>0.0</td>\n",
              "      <td>0.0</td>\n",
              "      <td>0.0</td>\n",
              "      <td>0.0</td>\n",
              "      <td>0.0</td>\n",
              "      <td>0.0</td>\n",
              "      <td>0.0</td>\n",
              "      <td>0.0</td>\n",
              "      <td>...</td>\n",
              "      <td>0.0</td>\n",
              "      <td>0.0</td>\n",
              "      <td>0.0</td>\n",
              "      <td>0.0</td>\n",
              "      <td>0.0</td>\n",
              "      <td>0.0</td>\n",
              "      <td>0.0</td>\n",
              "      <td>0.0</td>\n",
              "      <td>0.0</td>\n",
              "      <td>0.0</td>\n",
              "    </tr>\n",
              "    <tr>\n",
              "      <th>3</th>\n",
              "      <td>0.0</td>\n",
              "      <td>0.0</td>\n",
              "      <td>0.0</td>\n",
              "      <td>0.0</td>\n",
              "      <td>0.0</td>\n",
              "      <td>0.0</td>\n",
              "      <td>0.0</td>\n",
              "      <td>0.0</td>\n",
              "      <td>0.0</td>\n",
              "      <td>0.0</td>\n",
              "      <td>...</td>\n",
              "      <td>0.0</td>\n",
              "      <td>0.0</td>\n",
              "      <td>0.0</td>\n",
              "      <td>0.0</td>\n",
              "      <td>0.0</td>\n",
              "      <td>0.0</td>\n",
              "      <td>0.0</td>\n",
              "      <td>0.0</td>\n",
              "      <td>0.0</td>\n",
              "      <td>0.0</td>\n",
              "    </tr>\n",
              "    <tr>\n",
              "      <th>4</th>\n",
              "      <td>0.0</td>\n",
              "      <td>0.0</td>\n",
              "      <td>0.0</td>\n",
              "      <td>0.0</td>\n",
              "      <td>0.0</td>\n",
              "      <td>0.0</td>\n",
              "      <td>0.0</td>\n",
              "      <td>0.0</td>\n",
              "      <td>0.0</td>\n",
              "      <td>0.0</td>\n",
              "      <td>...</td>\n",
              "      <td>0.0</td>\n",
              "      <td>0.0</td>\n",
              "      <td>0.0</td>\n",
              "      <td>0.0</td>\n",
              "      <td>0.0</td>\n",
              "      <td>0.0</td>\n",
              "      <td>0.0</td>\n",
              "      <td>0.0</td>\n",
              "      <td>0.0</td>\n",
              "      <td>0.0</td>\n",
              "    </tr>\n",
              "  </tbody>\n",
              "</table>\n",
              "<p>5 rows × 1216 columns</p>\n",
              "</div>\n",
              "      <button class=\"colab-df-convert\" onclick=\"convertToInteractive('df-e7bf7f2c-52be-41e3-a518-e771f53088e1')\"\n",
              "              title=\"Convert this dataframe to an interactive table.\"\n",
              "              style=\"display:none;\">\n",
              "        \n",
              "  <svg xmlns=\"http://www.w3.org/2000/svg\" height=\"24px\"viewBox=\"0 0 24 24\"\n",
              "       width=\"24px\">\n",
              "    <path d=\"M0 0h24v24H0V0z\" fill=\"none\"/>\n",
              "    <path d=\"M18.56 5.44l.94 2.06.94-2.06 2.06-.94-2.06-.94-.94-2.06-.94 2.06-2.06.94zm-11 1L8.5 8.5l.94-2.06 2.06-.94-2.06-.94L8.5 2.5l-.94 2.06-2.06.94zm10 10l.94 2.06.94-2.06 2.06-.94-2.06-.94-.94-2.06-.94 2.06-2.06.94z\"/><path d=\"M17.41 7.96l-1.37-1.37c-.4-.4-.92-.59-1.43-.59-.52 0-1.04.2-1.43.59L10.3 9.45l-7.72 7.72c-.78.78-.78 2.05 0 2.83L4 21.41c.39.39.9.59 1.41.59.51 0 1.02-.2 1.41-.59l7.78-7.78 2.81-2.81c.8-.78.8-2.07 0-2.86zM5.41 20L4 18.59l7.72-7.72 1.47 1.35L5.41 20z\"/>\n",
              "  </svg>\n",
              "      </button>\n",
              "      \n",
              "  <style>\n",
              "    .colab-df-container {\n",
              "      display:flex;\n",
              "      flex-wrap:wrap;\n",
              "      gap: 12px;\n",
              "    }\n",
              "\n",
              "    .colab-df-convert {\n",
              "      background-color: #E8F0FE;\n",
              "      border: none;\n",
              "      border-radius: 50%;\n",
              "      cursor: pointer;\n",
              "      display: none;\n",
              "      fill: #1967D2;\n",
              "      height: 32px;\n",
              "      padding: 0 0 0 0;\n",
              "      width: 32px;\n",
              "    }\n",
              "\n",
              "    .colab-df-convert:hover {\n",
              "      background-color: #E2EBFA;\n",
              "      box-shadow: 0px 1px 2px rgba(60, 64, 67, 0.3), 0px 1px 3px 1px rgba(60, 64, 67, 0.15);\n",
              "      fill: #174EA6;\n",
              "    }\n",
              "\n",
              "    [theme=dark] .colab-df-convert {\n",
              "      background-color: #3B4455;\n",
              "      fill: #D2E3FC;\n",
              "    }\n",
              "\n",
              "    [theme=dark] .colab-df-convert:hover {\n",
              "      background-color: #434B5C;\n",
              "      box-shadow: 0px 1px 3px 1px rgba(0, 0, 0, 0.15);\n",
              "      filter: drop-shadow(0px 1px 2px rgba(0, 0, 0, 0.3));\n",
              "      fill: #FFFFFF;\n",
              "    }\n",
              "  </style>\n",
              "\n",
              "      <script>\n",
              "        const buttonEl =\n",
              "          document.querySelector('#df-e7bf7f2c-52be-41e3-a518-e771f53088e1 button.colab-df-convert');\n",
              "        buttonEl.style.display =\n",
              "          google.colab.kernel.accessAllowed ? 'block' : 'none';\n",
              "\n",
              "        async function convertToInteractive(key) {\n",
              "          const element = document.querySelector('#df-e7bf7f2c-52be-41e3-a518-e771f53088e1');\n",
              "          const dataTable =\n",
              "            await google.colab.kernel.invokeFunction('convertToInteractive',\n",
              "                                                     [key], {});\n",
              "          if (!dataTable) return;\n",
              "\n",
              "          const docLinkHtml = 'Like what you see? Visit the ' +\n",
              "            '<a target=\"_blank\" href=https://colab.research.google.com/notebooks/data_table.ipynb>data table notebook</a>'\n",
              "            + ' to learn more about interactive tables.';\n",
              "          element.innerHTML = '';\n",
              "          dataTable['output_type'] = 'display_data';\n",
              "          await google.colab.output.renderOutput(dataTable, element);\n",
              "          const docLink = document.createElement('div');\n",
              "          docLink.innerHTML = docLinkHtml;\n",
              "          element.appendChild(docLink);\n",
              "        }\n",
              "      </script>\n",
              "    </div>\n",
              "  </div>\n",
              "  "
            ]
          },
          "metadata": {},
          "execution_count": 12
        }
      ]
    },
    {
      "cell_type": "code",
      "source": [
        "df = pd.concat([df,bid,kywrd],axis = 1)"
      ],
      "metadata": {
        "id": "Y_DFrN_SrZ24"
      },
      "id": "Y_DFrN_SrZ24",
      "execution_count": 22,
      "outputs": []
    },
    {
      "cell_type": "markdown",
      "id": "lr_dOpDdycSj",
      "metadata": {
        "id": "lr_dOpDdycSj"
      },
      "source": [
        "Dropping certain fixed columns\n"
      ]
    },
    {
      "cell_type": "code",
      "source": [
        "del kywrd\n",
        "del bid"
      ],
      "metadata": {
        "id": "Iq9a4wJj2MFD"
      },
      "id": "Iq9a4wJj2MFD",
      "execution_count": 23,
      "outputs": []
    },
    {
      "cell_type": "code",
      "execution_count": 24,
      "id": "JCm4eSSTd3-Q",
      "metadata": {
        "id": "JCm4eSSTd3-Q"
      },
      "outputs": [],
      "source": [
        "df = drp(df)"
      ]
    },
    {
      "cell_type": "markdown",
      "id": "Kd3TUSq7yh5P",
      "metadata": {
        "id": "Kd3TUSq7yh5P"
      },
      "source": [
        "Performing One Hot Encoding over certian columns"
      ]
    },
    {
      "cell_type": "code",
      "execution_count": 25,
      "id": "yiJoB0DsbQco",
      "metadata": {
        "id": "yiJoB0DsbQco"
      },
      "outputs": [],
      "source": [
        "df = ohe(df,\"DEVICETYPE\")\n",
        "df = ohe(df,\"PLATFORMTYPE\")"
      ]
    },
    {
      "cell_type": "code",
      "source": [
        "df = df.drop(['BIDREQUESTIP','KEYWORDS'],axis = 1)"
      ],
      "metadata": {
        "id": "LmuvfkEWskd5"
      },
      "id": "LmuvfkEWskd5",
      "execution_count": 26,
      "outputs": []
    },
    {
      "cell_type": "code",
      "source": [
        "df_hcp = df.drop(['TAXONOMY'],axis = 1)"
      ],
      "metadata": {
        "id": "A-w9LR2K0e-4"
      },
      "id": "A-w9LR2K0e-4",
      "execution_count": 27,
      "outputs": []
    },
    {
      "cell_type": "code",
      "source": [
        "id = df_hcp['ID']\n",
        "df_hcp = df_hcp.drop(['ID'],axis = 1)"
      ],
      "metadata": {
        "id": "pbrEuCbe0ufL"
      },
      "id": "pbrEuCbe0ufL",
      "execution_count": 28,
      "outputs": []
    },
    {
      "cell_type": "code",
      "source": [
        "df_hcp = df_hcp.dropna(how = 'any',axis = 0)"
      ],
      "metadata": {
        "id": "uqYau2Nf4Tmh"
      },
      "id": "uqYau2Nf4Tmh",
      "execution_count": 29,
      "outputs": []
    },
    {
      "cell_type": "markdown",
      "source": [
        "here dataset is almost ready"
      ],
      "metadata": {
        "id": "dyNDvRqr5bN5"
      },
      "id": "dyNDvRqr5bN5"
    },
    {
      "cell_type": "code",
      "source": [
        "df_hcp.head()"
      ],
      "metadata": {
        "colab": {
          "base_uri": "https://localhost:8080/",
          "height": 334
        },
        "id": "X1CdFpyWUHxw",
        "outputId": "c1dcc172-0c3c-45c7-fc06-4b15ecabea47"
      },
      "id": "X1CdFpyWUHxw",
      "execution_count": 64,
      "outputs": [
        {
          "output_type": "execute_result",
          "data": {
            "text/plain": [
              "   PLATFORM_ID  USERZIPCODE  IS_HCP    0    1    2    3    4    5    6  ...  \\\n",
              "0            2      97206.0     0.0  0.0  0.0  0.0  0.0  0.0  0.0  0.0  ...   \n",
              "1            2      22202.0     0.0  0.0  0.0  0.0  0.0  0.0  0.0  0.0  ...   \n",
              "2            2      83654.0     0.0  0.0  0.0  0.0  0.0  0.0  0.0  0.0  ...   \n",
              "3            3  229114624.0     1.0  0.0  0.0  0.0  0.0  0.0  0.0  0.0  ...   \n",
              "4            7      77008.0     0.0  0.0  0.0  0.0  0.0  0.0  0.0  0.0  ...   \n",
              "\n",
              "   zoster sine herpete  DEVICETYPE_Desktop  DEVICETYPE_Mobile  \\\n",
              "0                  0.0                   1                  0   \n",
              "1                  0.0                   1                  0   \n",
              "2                  0.0                   1                  0   \n",
              "3                  0.0                   1                  0   \n",
              "4                  0.0                   0                  1   \n",
              "\n",
              "   DEVICETYPE_Tablet  DEVICETYPE_Unknown  \\\n",
              "0                  0                   0   \n",
              "1                  0                   0   \n",
              "2                  0                   0   \n",
              "3                  0                   0   \n",
              "4                  0                   0   \n",
              "\n",
              "   PLATFORMTYPE_Electronic Health Record  PLATFORMTYPE_Medical News Platform  \\\n",
              "0                                      0                                   0   \n",
              "1                                      0                                   0   \n",
              "2                                      0                                   0   \n",
              "3                                      0                                   0   \n",
              "4                                      0                                   0   \n",
              "\n",
              "   PLATFORMTYPE_Online Learning Portal  PLATFORMTYPE_Online Medical Journal  \\\n",
              "0                                    0                                    1   \n",
              "1                                    0                                    1   \n",
              "2                                    0                                    1   \n",
              "3                                    0                                    1   \n",
              "4                                    0                                    1   \n",
              "\n",
              "   PLATFORMTYPE_Tele-medicine Platform  \n",
              "0                                    0  \n",
              "1                                    0  \n",
              "2                                    0  \n",
              "3                                    0  \n",
              "4                                    0  \n",
              "\n",
              "[5 rows x 1474 columns]"
            ],
            "text/html": [
              "\n",
              "  <div id=\"df-ac028ca2-946e-46cb-91ed-a4a61fe4733e\">\n",
              "    <div class=\"colab-df-container\">\n",
              "      <div>\n",
              "<style scoped>\n",
              "    .dataframe tbody tr th:only-of-type {\n",
              "        vertical-align: middle;\n",
              "    }\n",
              "\n",
              "    .dataframe tbody tr th {\n",
              "        vertical-align: top;\n",
              "    }\n",
              "\n",
              "    .dataframe thead th {\n",
              "        text-align: right;\n",
              "    }\n",
              "</style>\n",
              "<table border=\"1\" class=\"dataframe\">\n",
              "  <thead>\n",
              "    <tr style=\"text-align: right;\">\n",
              "      <th></th>\n",
              "      <th>PLATFORM_ID</th>\n",
              "      <th>USERZIPCODE</th>\n",
              "      <th>IS_HCP</th>\n",
              "      <th>0</th>\n",
              "      <th>1</th>\n",
              "      <th>2</th>\n",
              "      <th>3</th>\n",
              "      <th>4</th>\n",
              "      <th>5</th>\n",
              "      <th>6</th>\n",
              "      <th>...</th>\n",
              "      <th>zoster sine herpete</th>\n",
              "      <th>DEVICETYPE_Desktop</th>\n",
              "      <th>DEVICETYPE_Mobile</th>\n",
              "      <th>DEVICETYPE_Tablet</th>\n",
              "      <th>DEVICETYPE_Unknown</th>\n",
              "      <th>PLATFORMTYPE_Electronic Health Record</th>\n",
              "      <th>PLATFORMTYPE_Medical News Platform</th>\n",
              "      <th>PLATFORMTYPE_Online Learning Portal</th>\n",
              "      <th>PLATFORMTYPE_Online Medical Journal</th>\n",
              "      <th>PLATFORMTYPE_Tele-medicine Platform</th>\n",
              "    </tr>\n",
              "  </thead>\n",
              "  <tbody>\n",
              "    <tr>\n",
              "      <th>0</th>\n",
              "      <td>2</td>\n",
              "      <td>97206.0</td>\n",
              "      <td>0.0</td>\n",
              "      <td>0.0</td>\n",
              "      <td>0.0</td>\n",
              "      <td>0.0</td>\n",
              "      <td>0.0</td>\n",
              "      <td>0.0</td>\n",
              "      <td>0.0</td>\n",
              "      <td>0.0</td>\n",
              "      <td>...</td>\n",
              "      <td>0.0</td>\n",
              "      <td>1</td>\n",
              "      <td>0</td>\n",
              "      <td>0</td>\n",
              "      <td>0</td>\n",
              "      <td>0</td>\n",
              "      <td>0</td>\n",
              "      <td>0</td>\n",
              "      <td>1</td>\n",
              "      <td>0</td>\n",
              "    </tr>\n",
              "    <tr>\n",
              "      <th>1</th>\n",
              "      <td>2</td>\n",
              "      <td>22202.0</td>\n",
              "      <td>0.0</td>\n",
              "      <td>0.0</td>\n",
              "      <td>0.0</td>\n",
              "      <td>0.0</td>\n",
              "      <td>0.0</td>\n",
              "      <td>0.0</td>\n",
              "      <td>0.0</td>\n",
              "      <td>0.0</td>\n",
              "      <td>...</td>\n",
              "      <td>0.0</td>\n",
              "      <td>1</td>\n",
              "      <td>0</td>\n",
              "      <td>0</td>\n",
              "      <td>0</td>\n",
              "      <td>0</td>\n",
              "      <td>0</td>\n",
              "      <td>0</td>\n",
              "      <td>1</td>\n",
              "      <td>0</td>\n",
              "    </tr>\n",
              "    <tr>\n",
              "      <th>2</th>\n",
              "      <td>2</td>\n",
              "      <td>83654.0</td>\n",
              "      <td>0.0</td>\n",
              "      <td>0.0</td>\n",
              "      <td>0.0</td>\n",
              "      <td>0.0</td>\n",
              "      <td>0.0</td>\n",
              "      <td>0.0</td>\n",
              "      <td>0.0</td>\n",
              "      <td>0.0</td>\n",
              "      <td>...</td>\n",
              "      <td>0.0</td>\n",
              "      <td>1</td>\n",
              "      <td>0</td>\n",
              "      <td>0</td>\n",
              "      <td>0</td>\n",
              "      <td>0</td>\n",
              "      <td>0</td>\n",
              "      <td>0</td>\n",
              "      <td>1</td>\n",
              "      <td>0</td>\n",
              "    </tr>\n",
              "    <tr>\n",
              "      <th>3</th>\n",
              "      <td>3</td>\n",
              "      <td>229114624.0</td>\n",
              "      <td>1.0</td>\n",
              "      <td>0.0</td>\n",
              "      <td>0.0</td>\n",
              "      <td>0.0</td>\n",
              "      <td>0.0</td>\n",
              "      <td>0.0</td>\n",
              "      <td>0.0</td>\n",
              "      <td>0.0</td>\n",
              "      <td>...</td>\n",
              "      <td>0.0</td>\n",
              "      <td>1</td>\n",
              "      <td>0</td>\n",
              "      <td>0</td>\n",
              "      <td>0</td>\n",
              "      <td>0</td>\n",
              "      <td>0</td>\n",
              "      <td>0</td>\n",
              "      <td>1</td>\n",
              "      <td>0</td>\n",
              "    </tr>\n",
              "    <tr>\n",
              "      <th>4</th>\n",
              "      <td>7</td>\n",
              "      <td>77008.0</td>\n",
              "      <td>0.0</td>\n",
              "      <td>0.0</td>\n",
              "      <td>0.0</td>\n",
              "      <td>0.0</td>\n",
              "      <td>0.0</td>\n",
              "      <td>0.0</td>\n",
              "      <td>0.0</td>\n",
              "      <td>0.0</td>\n",
              "      <td>...</td>\n",
              "      <td>0.0</td>\n",
              "      <td>0</td>\n",
              "      <td>1</td>\n",
              "      <td>0</td>\n",
              "      <td>0</td>\n",
              "      <td>0</td>\n",
              "      <td>0</td>\n",
              "      <td>0</td>\n",
              "      <td>1</td>\n",
              "      <td>0</td>\n",
              "    </tr>\n",
              "  </tbody>\n",
              "</table>\n",
              "<p>5 rows × 1474 columns</p>\n",
              "</div>\n",
              "      <button class=\"colab-df-convert\" onclick=\"convertToInteractive('df-ac028ca2-946e-46cb-91ed-a4a61fe4733e')\"\n",
              "              title=\"Convert this dataframe to an interactive table.\"\n",
              "              style=\"display:none;\">\n",
              "        \n",
              "  <svg xmlns=\"http://www.w3.org/2000/svg\" height=\"24px\"viewBox=\"0 0 24 24\"\n",
              "       width=\"24px\">\n",
              "    <path d=\"M0 0h24v24H0V0z\" fill=\"none\"/>\n",
              "    <path d=\"M18.56 5.44l.94 2.06.94-2.06 2.06-.94-2.06-.94-.94-2.06-.94 2.06-2.06.94zm-11 1L8.5 8.5l.94-2.06 2.06-.94-2.06-.94L8.5 2.5l-.94 2.06-2.06.94zm10 10l.94 2.06.94-2.06 2.06-.94-2.06-.94-.94-2.06-.94 2.06-2.06.94z\"/><path d=\"M17.41 7.96l-1.37-1.37c-.4-.4-.92-.59-1.43-.59-.52 0-1.04.2-1.43.59L10.3 9.45l-7.72 7.72c-.78.78-.78 2.05 0 2.83L4 21.41c.39.39.9.59 1.41.59.51 0 1.02-.2 1.41-.59l7.78-7.78 2.81-2.81c.8-.78.8-2.07 0-2.86zM5.41 20L4 18.59l7.72-7.72 1.47 1.35L5.41 20z\"/>\n",
              "  </svg>\n",
              "      </button>\n",
              "      \n",
              "  <style>\n",
              "    .colab-df-container {\n",
              "      display:flex;\n",
              "      flex-wrap:wrap;\n",
              "      gap: 12px;\n",
              "    }\n",
              "\n",
              "    .colab-df-convert {\n",
              "      background-color: #E8F0FE;\n",
              "      border: none;\n",
              "      border-radius: 50%;\n",
              "      cursor: pointer;\n",
              "      display: none;\n",
              "      fill: #1967D2;\n",
              "      height: 32px;\n",
              "      padding: 0 0 0 0;\n",
              "      width: 32px;\n",
              "    }\n",
              "\n",
              "    .colab-df-convert:hover {\n",
              "      background-color: #E2EBFA;\n",
              "      box-shadow: 0px 1px 2px rgba(60, 64, 67, 0.3), 0px 1px 3px 1px rgba(60, 64, 67, 0.15);\n",
              "      fill: #174EA6;\n",
              "    }\n",
              "\n",
              "    [theme=dark] .colab-df-convert {\n",
              "      background-color: #3B4455;\n",
              "      fill: #D2E3FC;\n",
              "    }\n",
              "\n",
              "    [theme=dark] .colab-df-convert:hover {\n",
              "      background-color: #434B5C;\n",
              "      box-shadow: 0px 1px 3px 1px rgba(0, 0, 0, 0.15);\n",
              "      filter: drop-shadow(0px 1px 2px rgba(0, 0, 0, 0.3));\n",
              "      fill: #FFFFFF;\n",
              "    }\n",
              "  </style>\n",
              "\n",
              "      <script>\n",
              "        const buttonEl =\n",
              "          document.querySelector('#df-ac028ca2-946e-46cb-91ed-a4a61fe4733e button.colab-df-convert');\n",
              "        buttonEl.style.display =\n",
              "          google.colab.kernel.accessAllowed ? 'block' : 'none';\n",
              "\n",
              "        async function convertToInteractive(key) {\n",
              "          const element = document.querySelector('#df-ac028ca2-946e-46cb-91ed-a4a61fe4733e');\n",
              "          const dataTable =\n",
              "            await google.colab.kernel.invokeFunction('convertToInteractive',\n",
              "                                                     [key], {});\n",
              "          if (!dataTable) return;\n",
              "\n",
              "          const docLinkHtml = 'Like what you see? Visit the ' +\n",
              "            '<a target=\"_blank\" href=https://colab.research.google.com/notebooks/data_table.ipynb>data table notebook</a>'\n",
              "            + ' to learn more about interactive tables.';\n",
              "          element.innerHTML = '';\n",
              "          dataTable['output_type'] = 'display_data';\n",
              "          await google.colab.output.renderOutput(dataTable, element);\n",
              "          const docLink = document.createElement('div');\n",
              "          docLink.innerHTML = docLinkHtml;\n",
              "          element.appendChild(docLink);\n",
              "        }\n",
              "      </script>\n",
              "    </div>\n",
              "  </div>\n",
              "  "
            ]
          },
          "metadata": {},
          "execution_count": 64
        }
      ]
    },
    {
      "cell_type": "code",
      "source": [
        "from sklearn.ensemble import RandomForestClassifier\n",
        "from sklearn.model_selection import cross_val_score,train_test_split"
      ],
      "metadata": {
        "id": "3usb9X1mGIe4"
      },
      "id": "3usb9X1mGIe4",
      "execution_count": 30,
      "outputs": []
    },
    {
      "cell_type": "code",
      "source": [
        "X = df_hcp.drop('IS_HCP',axis = 1).to_numpy()\n",
        "#X.columns = X.columns.astype(str)\n",
        "X = scale(X)\n",
        "y = df_hcp['IS_HCP'].to_numpy()\n",
        "y = y.reshape(-1,1)"
      ],
      "metadata": {
        "id": "o1nWm5rb4eFz"
      },
      "id": "o1nWm5rb4eFz",
      "execution_count": 31,
      "outputs": []
    },
    {
      "cell_type": "code",
      "source": [
        "print(X.shape,y.shape)"
      ],
      "metadata": {
        "colab": {
          "base_uri": "https://localhost:8080/"
        },
        "id": "eOXghnK7Ieia",
        "outputId": "da3aadca-7337-4708-bd2a-56b1cf74ed43"
      },
      "id": "eOXghnK7Ieia",
      "execution_count": 20,
      "outputs": [
        {
          "output_type": "stream",
          "name": "stdout",
          "text": [
            "(109344, 1473) (109344, 1)\n"
          ]
        }
      ]
    },
    {
      "cell_type": "code",
      "source": [
        "clf = RandomForestClassifier( n_estimators = 100 ,random_state = 42)"
      ],
      "metadata": {
        "id": "xkeM7m4DGZ27"
      },
      "id": "xkeM7m4DGZ27",
      "execution_count": 23,
      "outputs": []
    },
    {
      "cell_type": "code",
      "source": [
        "X_train,X_val,y_train,y_val = train_test_split(X,y,test_size = 0.4)"
      ],
      "metadata": {
        "id": "--nU5co-K-Lz"
      },
      "id": "--nU5co-K-Lz",
      "execution_count": 32,
      "outputs": []
    },
    {
      "cell_type": "markdown",
      "source": [
        "now training will take up a lot of time\n"
      ],
      "metadata": {
        "id": "NsJ0qtsu5i5d"
      },
      "id": "NsJ0qtsu5i5d"
    },
    {
      "cell_type": "code",
      "source": [
        "import tensorflow as tf\n",
        "from tensorflow.keras.layers import Dense,Dropout,Input,Flatten\n",
        "from tensorflow.keras import Model"
      ],
      "metadata": {
        "id": "IKDj9NRYJQt_"
      },
      "id": "IKDj9NRYJQt_",
      "execution_count": 33,
      "outputs": []
    },
    {
      "cell_type": "code",
      "source": [
        "input_shape = X_train.shape[1]\n",
        "num_layers = 11\n",
        "num_epochs = 90\n",
        "unit = [64,64,128,128,512,512,512,128,128,64,64]\n",
        "drp = [0,0,0,0,0,0,0,0,0,0,0]"
      ],
      "metadata": {
        "id": "kWw-Mc0sI5_0"
      },
      "id": "kWw-Mc0sI5_0",
      "execution_count": 116,
      "outputs": []
    },
    {
      "cell_type": "code",
      "source": [
        "def nn():\n",
        "  input = Input(shape = input_shape)\n",
        "  x = Flatten()(input)\n",
        "  #hp_num_layers = hp.Int('units', min_value=10, max_value=20, step=2)\n",
        "  for i in range(num_layers):\n",
        "    x = Dense(units = unit[i],activation = 'relu')(x)\n",
        "    x = Dropout(drp[i])(x)\n",
        "  x = Dense(units = 64,activation = 'relu')(x)\n",
        "  #hp_drp = hp.Float('drp',min_value = 0,max_value = 0.5,step = 0.1)\n",
        "  y = Dense(units = 1,activation = 'sigmoid')(x)\n",
        "  model = Model(inputs = input,outputs = y)\n",
        "  model.compile(optimizer = 'adam',loss = 'binary_crossentropy',metrics = ['accuracy'])\n",
        "  return model"
      ],
      "metadata": {
        "id": "8VV6NUurIOUe"
      },
      "id": "8VV6NUurIOUe",
      "execution_count": 117,
      "outputs": []
    },
    {
      "cell_type": "code",
      "source": [
        "model = nn()"
      ],
      "metadata": {
        "id": "iptOvvEQJfB2"
      },
      "id": "iptOvvEQJfB2",
      "execution_count": 118,
      "outputs": []
    },
    {
      "cell_type": "code",
      "source": [
        "model.fit(X_train,y_train,validation_data = (X_val,y_val) ,epochs = num_epochs,batch_size = 32)"
      ],
      "metadata": {
        "colab": {
          "base_uri": "https://localhost:8080/"
        },
        "id": "4IKwjeQAJ2Kz",
        "outputId": "4d642eda-30f4-4375-9265-3b9f62210ed4"
      },
      "id": "4IKwjeQAJ2Kz",
      "execution_count": 120,
      "outputs": [
        {
          "output_type": "stream",
          "name": "stdout",
          "text": [
            "Epoch 1/90\n",
            "2051/2051 [==============================] - 24s 9ms/step - loss: 0.1367 - accuracy: 0.9446 - val_loss: 0.0685 - val_accuracy: 0.9763\n",
            "Epoch 2/90\n",
            "2051/2051 [==============================] - 18s 9ms/step - loss: 0.0482 - accuracy: 0.9815 - val_loss: 0.0517 - val_accuracy: 0.9818\n",
            "Epoch 3/90\n",
            "2051/2051 [==============================] - 16s 8ms/step - loss: 0.0381 - accuracy: 0.9868 - val_loss: 0.0673 - val_accuracy: 0.9824\n",
            "Epoch 4/90\n",
            "2051/2051 [==============================] - 17s 8ms/step - loss: 0.0284 - accuracy: 0.9901 - val_loss: 0.0774 - val_accuracy: 0.9868\n",
            "Epoch 5/90\n",
            "2051/2051 [==============================] - 15s 8ms/step - loss: 0.0251 - accuracy: 0.9918 - val_loss: 0.0609 - val_accuracy: 0.9848\n",
            "Epoch 6/90\n",
            "2051/2051 [==============================] - 18s 9ms/step - loss: 0.0408 - accuracy: 0.9925 - val_loss: 0.3400 - val_accuracy: 0.9863\n",
            "Epoch 7/90\n",
            "2051/2051 [==============================] - 18s 9ms/step - loss: 0.0246 - accuracy: 0.9934 - val_loss: 0.0732 - val_accuracy: 0.9890\n",
            "Epoch 8/90\n",
            "2051/2051 [==============================] - 16s 8ms/step - loss: 0.0214 - accuracy: 0.9960 - val_loss: 0.3445 - val_accuracy: 0.9881\n",
            "Epoch 9/90\n",
            "2051/2051 [==============================] - 16s 8ms/step - loss: 0.0286 - accuracy: 0.9950 - val_loss: 0.0847 - val_accuracy: 0.9874\n",
            "Epoch 10/90\n",
            "2051/2051 [==============================] - 18s 9ms/step - loss: 0.0266 - accuracy: 0.9962 - val_loss: 0.0726 - val_accuracy: 0.9893\n",
            "Epoch 11/90\n",
            "2051/2051 [==============================] - 16s 8ms/step - loss: 0.0122 - accuracy: 0.9977 - val_loss: 0.0995 - val_accuracy: 0.9886\n",
            "Epoch 12/90\n",
            "2051/2051 [==============================] - 18s 9ms/step - loss: 0.0154 - accuracy: 0.9970 - val_loss: 0.0762 - val_accuracy: 0.9869\n",
            "Epoch 13/90\n",
            "2051/2051 [==============================] - 16s 8ms/step - loss: 0.0101 - accuracy: 0.9977 - val_loss: 0.3024 - val_accuracy: 0.9902\n",
            "Epoch 14/90\n",
            "2051/2051 [==============================] - 18s 9ms/step - loss: 0.0132 - accuracy: 0.9971 - val_loss: 0.1525 - val_accuracy: 0.9894\n",
            "Epoch 15/90\n",
            "2051/2051 [==============================] - 15s 8ms/step - loss: 0.0155 - accuracy: 0.9980 - val_loss: 0.1474 - val_accuracy: 0.9908\n",
            "Epoch 16/90\n",
            "2051/2051 [==============================] - 18s 9ms/step - loss: 0.0139 - accuracy: 0.9987 - val_loss: 0.3468 - val_accuracy: 0.9902\n",
            "Epoch 17/90\n",
            "2051/2051 [==============================] - 18s 9ms/step - loss: 0.0167 - accuracy: 0.9979 - val_loss: 0.0912 - val_accuracy: 0.9896\n",
            "Epoch 18/90\n",
            "2051/2051 [==============================] - 18s 9ms/step - loss: 0.0214 - accuracy: 0.9983 - val_loss: 0.0772 - val_accuracy: 0.9888\n",
            "Epoch 19/90\n",
            "2051/2051 [==============================] - 16s 8ms/step - loss: 0.0123 - accuracy: 0.9982 - val_loss: 0.0683 - val_accuracy: 0.9897\n",
            "Epoch 20/90\n",
            "2051/2051 [==============================] - 17s 8ms/step - loss: 0.0095 - accuracy: 0.9979 - val_loss: 0.1623 - val_accuracy: 0.9895\n",
            "Epoch 21/90\n",
            "2051/2051 [==============================] - 18s 9ms/step - loss: 0.0055 - accuracy: 0.9983 - val_loss: 0.2048 - val_accuracy: 0.9889\n",
            "Epoch 22/90\n",
            "2051/2051 [==============================] - 18s 9ms/step - loss: 0.0192 - accuracy: 0.9970 - val_loss: 0.8554 - val_accuracy: 0.9896\n",
            "Epoch 23/90\n",
            "2051/2051 [==============================] - 16s 8ms/step - loss: 0.1150 - accuracy: 0.9932 - val_loss: 0.1170 - val_accuracy: 0.9883\n",
            "Epoch 24/90\n",
            "2051/2051 [==============================] - 16s 8ms/step - loss: 0.0762 - accuracy: 0.9962 - val_loss: 0.2164 - val_accuracy: 0.9883\n",
            "Epoch 25/90\n",
            "2051/2051 [==============================] - 16s 8ms/step - loss: 0.0167 - accuracy: 0.9985 - val_loss: 0.1512 - val_accuracy: 0.9893\n",
            "Epoch 26/90\n",
            "2051/2051 [==============================] - 16s 8ms/step - loss: 0.0168 - accuracy: 0.9980 - val_loss: 1.3638 - val_accuracy: 0.9892\n",
            "Epoch 27/90\n",
            "2051/2051 [==============================] - 16s 8ms/step - loss: 0.0080 - accuracy: 0.9992 - val_loss: 0.8119 - val_accuracy: 0.9897\n",
            "Epoch 28/90\n",
            "2051/2051 [==============================] - 16s 8ms/step - loss: 0.0238 - accuracy: 0.9989 - val_loss: 0.3190 - val_accuracy: 0.9900\n",
            "Epoch 29/90\n",
            "2051/2051 [==============================] - 18s 9ms/step - loss: 0.0084 - accuracy: 0.9985 - val_loss: 0.1380 - val_accuracy: 0.9883\n",
            "Epoch 30/90\n",
            "2051/2051 [==============================] - 18s 9ms/step - loss: 0.0098 - accuracy: 0.9983 - val_loss: 0.3412 - val_accuracy: 0.9901\n",
            "Epoch 31/90\n",
            "2051/2051 [==============================] - 16s 8ms/step - loss: 0.0169 - accuracy: 0.9987 - val_loss: 0.2386 - val_accuracy: 0.9899\n",
            "Epoch 32/90\n",
            "2051/2051 [==============================] - 18s 9ms/step - loss: 0.0208 - accuracy: 0.9951 - val_loss: 0.1550 - val_accuracy: 0.9897\n",
            "Epoch 33/90\n",
            "2051/2051 [==============================] - 16s 8ms/step - loss: 0.0076 - accuracy: 0.9988 - val_loss: 0.1740 - val_accuracy: 0.9897\n",
            "Epoch 34/90\n",
            "2051/2051 [==============================] - 18s 9ms/step - loss: 0.0125 - accuracy: 0.9985 - val_loss: 0.5033 - val_accuracy: 0.9404\n",
            "Epoch 35/90\n",
            "2051/2051 [==============================] - 18s 9ms/step - loss: 0.0365 - accuracy: 0.9972 - val_loss: 0.7651 - val_accuracy: 0.9905\n",
            "Epoch 36/90\n",
            "2051/2051 [==============================] - 17s 8ms/step - loss: 0.0541 - accuracy: 0.9976 - val_loss: 0.4482 - val_accuracy: 0.9893\n",
            "Epoch 37/90\n",
            "2051/2051 [==============================] - 16s 8ms/step - loss: 0.0728 - accuracy: 0.9959 - val_loss: 0.3183 - val_accuracy: 0.9902\n",
            "Epoch 38/90\n",
            "2051/2051 [==============================] - 16s 8ms/step - loss: 0.1194 - accuracy: 0.9941 - val_loss: 0.2352 - val_accuracy: 0.9881\n",
            "Epoch 39/90\n",
            "2051/2051 [==============================] - 16s 8ms/step - loss: 0.0090 - accuracy: 0.9979 - val_loss: 1.9313 - val_accuracy: 0.9901\n",
            "Epoch 40/90\n",
            "2051/2051 [==============================] - 18s 9ms/step - loss: 0.0032 - accuracy: 0.9993 - val_loss: 5.5357 - val_accuracy: 0.9899\n",
            "Epoch 41/90\n",
            "2051/2051 [==============================] - 17s 8ms/step - loss: 0.1227 - accuracy: 0.9988 - val_loss: 2.1308 - val_accuracy: 0.9896\n",
            "Epoch 42/90\n",
            "2051/2051 [==============================] - 17s 8ms/step - loss: 0.0049 - accuracy: 0.9992 - val_loss: 2.3139 - val_accuracy: 0.9900\n",
            "Epoch 43/90\n",
            "2051/2051 [==============================] - 18s 9ms/step - loss: 0.0281 - accuracy: 0.9984 - val_loss: 0.2990 - val_accuracy: 0.9901\n",
            "Epoch 44/90\n",
            "2051/2051 [==============================] - 18s 9ms/step - loss: 0.0092 - accuracy: 0.9981 - val_loss: 0.4874 - val_accuracy: 0.9831\n",
            "Epoch 45/90\n",
            "2051/2051 [==============================] - 18s 9ms/step - loss: 0.0382 - accuracy: 0.9917 - val_loss: 0.3356 - val_accuracy: 0.9823\n",
            "Epoch 46/90\n",
            "2051/2051 [==============================] - 16s 8ms/step - loss: 0.0360 - accuracy: 0.9924 - val_loss: 0.3535 - val_accuracy: 0.9830\n",
            "Epoch 47/90\n",
            "2051/2051 [==============================] - 18s 9ms/step - loss: 0.0345 - accuracy: 0.9924 - val_loss: 0.4203 - val_accuracy: 0.9897\n",
            "Epoch 48/90\n",
            "2051/2051 [==============================] - 16s 8ms/step - loss: 0.0316 - accuracy: 0.9975 - val_loss: 0.1912 - val_accuracy: 0.9834\n",
            "Epoch 49/90\n",
            "2051/2051 [==============================] - 18s 9ms/step - loss: 0.0144 - accuracy: 0.9971 - val_loss: 0.1944 - val_accuracy: 0.9893\n",
            "Epoch 50/90\n",
            "2051/2051 [==============================] - 16s 8ms/step - loss: 0.0230 - accuracy: 0.9953 - val_loss: 0.2836 - val_accuracy: 0.9834\n",
            "Epoch 51/90\n",
            "2051/2051 [==============================] - 18s 9ms/step - loss: 0.0362 - accuracy: 0.9923 - val_loss: 0.2960 - val_accuracy: 0.9834\n",
            "Epoch 52/90\n",
            "2051/2051 [==============================] - 16s 8ms/step - loss: 0.0366 - accuracy: 0.9921 - val_loss: 0.2756 - val_accuracy: 0.9837\n",
            "Epoch 53/90\n",
            "2051/2051 [==============================] - 16s 8ms/step - loss: 0.0176 - accuracy: 0.9977 - val_loss: 0.3746 - val_accuracy: 0.9901\n",
            "Epoch 54/90\n",
            "2051/2051 [==============================] - 18s 9ms/step - loss: 0.0213 - accuracy: 0.9976 - val_loss: 0.3772 - val_accuracy: 0.9903\n",
            "Epoch 55/90\n",
            "2051/2051 [==============================] - 18s 9ms/step - loss: 0.0484 - accuracy: 0.9981 - val_loss: 0.4438 - val_accuracy: 0.9896\n",
            "Epoch 56/90\n",
            "2051/2051 [==============================] - 15s 8ms/step - loss: 0.0170 - accuracy: 0.9989 - val_loss: 0.2895 - val_accuracy: 0.9482\n",
            "Epoch 57/90\n",
            "2051/2051 [==============================] - 18s 9ms/step - loss: 0.0074 - accuracy: 0.9991 - val_loss: 0.2312 - val_accuracy: 0.9906\n",
            "Epoch 58/90\n",
            "2051/2051 [==============================] - 15s 8ms/step - loss: 0.0026 - accuracy: 0.9997 - val_loss: 0.2124 - val_accuracy: 0.9906\n",
            "Epoch 59/90\n",
            "2051/2051 [==============================] - 16s 8ms/step - loss: 0.0067 - accuracy: 0.9993 - val_loss: 0.2605 - val_accuracy: 0.9904\n",
            "Epoch 60/90\n",
            "2051/2051 [==============================] - 18s 9ms/step - loss: 0.0044 - accuracy: 0.9993 - val_loss: 0.2464 - val_accuracy: 0.9893\n",
            "Epoch 61/90\n",
            "2051/2051 [==============================] - 18s 9ms/step - loss: 0.0086 - accuracy: 0.9983 - val_loss: 0.3102 - val_accuracy: 0.9902\n",
            "Epoch 62/90\n",
            "2051/2051 [==============================] - 18s 9ms/step - loss: 0.0058 - accuracy: 0.9990 - val_loss: 0.4278 - val_accuracy: 0.9907\n",
            "Epoch 63/90\n",
            "2051/2051 [==============================] - 16s 8ms/step - loss: 0.0087 - accuracy: 0.9983 - val_loss: 0.1739 - val_accuracy: 0.9899\n",
            "Epoch 64/90\n",
            "2051/2051 [==============================] - 16s 8ms/step - loss: 0.0040 - accuracy: 0.9992 - val_loss: 0.3220 - val_accuracy: 0.9901\n",
            "Epoch 65/90\n",
            "2051/2051 [==============================] - 15s 8ms/step - loss: 0.0123 - accuracy: 0.9986 - val_loss: 2.2677 - val_accuracy: 0.9888\n",
            "Epoch 66/90\n",
            "2051/2051 [==============================] - 16s 8ms/step - loss: 0.0318 - accuracy: 0.9936 - val_loss: 0.5679 - val_accuracy: 0.9894\n",
            "Epoch 67/90\n",
            "2051/2051 [==============================] - 18s 9ms/step - loss: 0.0075 - accuracy: 0.9988 - val_loss: 0.2453 - val_accuracy: 0.9899\n",
            "Epoch 68/90\n",
            "2051/2051 [==============================] - 18s 9ms/step - loss: 0.0050 - accuracy: 0.9991 - val_loss: 0.2983 - val_accuracy: 0.9907\n",
            "Epoch 69/90\n",
            "2051/2051 [==============================] - 16s 8ms/step - loss: 0.0053 - accuracy: 0.9991 - val_loss: 0.2194 - val_accuracy: 0.9891\n",
            "Epoch 70/90\n",
            "2051/2051 [==============================] - 15s 8ms/step - loss: 0.0056 - accuracy: 0.9990 - val_loss: 0.4177 - val_accuracy: 0.9904\n",
            "Epoch 71/90\n",
            "2051/2051 [==============================] - 18s 9ms/step - loss: 0.0091 - accuracy: 0.9987 - val_loss: 0.4037 - val_accuracy: 0.9898\n",
            "Epoch 72/90\n",
            "2051/2051 [==============================] - 18s 9ms/step - loss: 0.0175 - accuracy: 0.9965 - val_loss: 0.4310 - val_accuracy: 0.9828\n",
            "Epoch 73/90\n",
            "2051/2051 [==============================] - 18s 9ms/step - loss: 0.0210 - accuracy: 0.9958 - val_loss: 0.2757 - val_accuracy: 0.9853\n",
            "Epoch 74/90\n",
            "2051/2051 [==============================] - 16s 8ms/step - loss: 0.0380 - accuracy: 0.9916 - val_loss: 0.0669 - val_accuracy: 0.9886\n",
            "Epoch 75/90\n",
            "2051/2051 [==============================] - 18s 9ms/step - loss: 0.8800 - accuracy: 0.8414 - val_loss: 0.2839 - val_accuracy: 0.8793\n",
            "Epoch 76/90\n",
            "2051/2051 [==============================] - 16s 8ms/step - loss: 0.3405 - accuracy: 0.8394 - val_loss: 0.3250 - val_accuracy: 0.8292\n",
            "Epoch 77/90\n",
            "2051/2051 [==============================] - 18s 9ms/step - loss: 0.2626 - accuracy: 0.8749 - val_loss: 0.2173 - val_accuracy: 0.9319\n",
            "Epoch 78/90\n",
            "2051/2051 [==============================] - 16s 8ms/step - loss: 0.2726 - accuracy: 0.8738 - val_loss: 0.2950 - val_accuracy: 0.8596\n",
            "Epoch 79/90\n",
            "2051/2051 [==============================] - 16s 8ms/step - loss: 0.2291 - accuracy: 0.9130 - val_loss: 0.1937 - val_accuracy: 0.9492\n",
            "Epoch 80/90\n",
            "2051/2051 [==============================] - 16s 8ms/step - loss: 0.1728 - accuracy: 0.9553 - val_loss: 0.2484 - val_accuracy: 0.9270\n",
            "Epoch 81/90\n",
            "2051/2051 [==============================] - 17s 9ms/step - loss: 0.2251 - accuracy: 0.9356 - val_loss: 0.1859 - val_accuracy: 0.9538\n",
            "Epoch 82/90\n",
            "2051/2051 [==============================] - 16s 8ms/step - loss: 0.1607 - accuracy: 0.9614 - val_loss: 0.1856 - val_accuracy: 0.9538\n",
            "Epoch 83/90\n",
            "2051/2051 [==============================] - 15s 7ms/step - loss: 0.1607 - accuracy: 0.9614 - val_loss: 0.1879 - val_accuracy: 0.9538\n",
            "Epoch 84/90\n",
            "2051/2051 [==============================] - 18s 9ms/step - loss: 0.4165 - accuracy: 0.8480 - val_loss: 0.6208 - val_accuracy: 0.6879\n",
            "Epoch 85/90\n",
            "2051/2051 [==============================] - 18s 9ms/step - loss: 0.6213 - accuracy: 0.6879 - val_loss: 0.6212 - val_accuracy: 0.6879\n",
            "Epoch 86/90\n",
            "2051/2051 [==============================] - 18s 9ms/step - loss: 0.6215 - accuracy: 0.6879 - val_loss: 0.6217 - val_accuracy: 0.6879\n",
            "Epoch 87/90\n",
            "2051/2051 [==============================] - 18s 9ms/step - loss: 0.4339 - accuracy: 0.9033 - val_loss: 1.2289 - val_accuracy: 0.9760\n",
            "Epoch 88/90\n",
            "2051/2051 [==============================] - 16s 8ms/step - loss: 0.1763 - accuracy: 0.9810 - val_loss: 0.1326 - val_accuracy: 0.9839\n",
            "Epoch 89/90\n",
            "2051/2051 [==============================] - 18s 9ms/step - loss: 0.0493 - accuracy: 0.9927 - val_loss: 0.1150 - val_accuracy: 0.9869\n",
            "Epoch 90/90\n",
            "2051/2051 [==============================] - 18s 9ms/step - loss: 0.0246 - accuracy: 0.9954 - val_loss: 0.1203 - val_accuracy: 0.9899\n"
          ]
        },
        {
          "output_type": "execute_result",
          "data": {
            "text/plain": [
              "<keras.callbacks.History at 0x7f584177f6a0>"
            ]
          },
          "metadata": {},
          "execution_count": 120
        }
      ]
    },
    {
      "cell_type": "code",
      "source": [
        "y_pred3 = model.predict(X_val)"
      ],
      "metadata": {
        "colab": {
          "base_uri": "https://localhost:8080/"
        },
        "id": "Wubg96mPLnpW",
        "outputId": "382fdfb5-c5cb-4b4f-a214-f8bde28aa6bf"
      },
      "id": "Wubg96mPLnpW",
      "execution_count": 121,
      "outputs": [
        {
          "output_type": "stream",
          "name": "stdout",
          "text": [
            "1367/1367 [==============================] - 5s 4ms/step\n"
          ]
        }
      ]
    },
    {
      "cell_type": "code",
      "source": [
        "ct = 0\n",
        "for i in range (y_pred3.shape[0]):\n",
        "  if(y_pred3[i]<0.5):\n",
        "    y_pred3[i] = 0\n",
        "  else:\n",
        "    y_pred3[i] = 1"
      ],
      "metadata": {
        "id": "cp_VeGuyLvo1"
      },
      "id": "cp_VeGuyLvo1",
      "execution_count": 122,
      "outputs": []
    },
    {
      "cell_type": "code",
      "source": [
        "y_pred3"
      ],
      "metadata": {
        "colab": {
          "base_uri": "https://localhost:8080/"
        },
        "id": "WRM2npEWMvj3",
        "outputId": "da57c57b-1ddc-4ffe-9aa4-75092ff964a0"
      },
      "id": "WRM2npEWMvj3",
      "execution_count": 123,
      "outputs": [
        {
          "output_type": "execute_result",
          "data": {
            "text/plain": [
              "array([[0.],\n",
              "       [1.],\n",
              "       [0.],\n",
              "       ...,\n",
              "       [0.],\n",
              "       [0.],\n",
              "       [1.]], dtype=float32)"
            ]
          },
          "metadata": {},
          "execution_count": 123
        }
      ]
    },
    {
      "cell_type": "markdown",
      "source": [
        "Not training the model again coz it takes up a lot of time will show you the results"
      ],
      "metadata": {
        "id": "Zsu8_rM6-_M4"
      },
      "id": "Zsu8_rM6-_M4"
    },
    {
      "cell_type": "code",
      "source": [
        "f1_score(y_val,y_pred3)"
      ],
      "metadata": {
        "colab": {
          "base_uri": "https://localhost:8080/"
        },
        "id": "qre03HCONFN3",
        "outputId": "fb614b3a-72b6-4cb6-ca56-497802b7c737"
      },
      "id": "qre03HCONFN3",
      "execution_count": 124,
      "outputs": [
        {
          "output_type": "execute_result",
          "data": {
            "text/plain": [
              "0.9838178223621585"
            ]
          },
          "metadata": {},
          "execution_count": 124
        }
      ]
    },
    {
      "cell_type": "code",
      "source": [
        "clf.fit(X_train,y_train)"
      ],
      "metadata": {
        "id": "43tpux4DK7-K",
        "colab": {
          "base_uri": "https://localhost:8080/",
          "height": 129
        },
        "outputId": "ed810080-00c4-4f2f-f0c1-ba5043eda9d2"
      },
      "id": "43tpux4DK7-K",
      "execution_count": 25,
      "outputs": [
        {
          "output_type": "stream",
          "name": "stderr",
          "text": [
            "<ipython-input-25-86937c1966f0>:1: DataConversionWarning: A column-vector y was passed when a 1d array was expected. Please change the shape of y to (n_samples,), for example using ravel().\n",
            "  clf.fit(X_train,y_train)\n"
          ]
        },
        {
          "output_type": "execute_result",
          "data": {
            "text/plain": [
              "RandomForestClassifier(random_state=42)"
            ],
            "text/html": [
              "<style>#sk-container-id-1 {color: black;background-color: white;}#sk-container-id-1 pre{padding: 0;}#sk-container-id-1 div.sk-toggleable {background-color: white;}#sk-container-id-1 label.sk-toggleable__label {cursor: pointer;display: block;width: 100%;margin-bottom: 0;padding: 0.3em;box-sizing: border-box;text-align: center;}#sk-container-id-1 label.sk-toggleable__label-arrow:before {content: \"▸\";float: left;margin-right: 0.25em;color: #696969;}#sk-container-id-1 label.sk-toggleable__label-arrow:hover:before {color: black;}#sk-container-id-1 div.sk-estimator:hover label.sk-toggleable__label-arrow:before {color: black;}#sk-container-id-1 div.sk-toggleable__content {max-height: 0;max-width: 0;overflow: hidden;text-align: left;background-color: #f0f8ff;}#sk-container-id-1 div.sk-toggleable__content pre {margin: 0.2em;color: black;border-radius: 0.25em;background-color: #f0f8ff;}#sk-container-id-1 input.sk-toggleable__control:checked~div.sk-toggleable__content {max-height: 200px;max-width: 100%;overflow: auto;}#sk-container-id-1 input.sk-toggleable__control:checked~label.sk-toggleable__label-arrow:before {content: \"▾\";}#sk-container-id-1 div.sk-estimator input.sk-toggleable__control:checked~label.sk-toggleable__label {background-color: #d4ebff;}#sk-container-id-1 div.sk-label input.sk-toggleable__control:checked~label.sk-toggleable__label {background-color: #d4ebff;}#sk-container-id-1 input.sk-hidden--visually {border: 0;clip: rect(1px 1px 1px 1px);clip: rect(1px, 1px, 1px, 1px);height: 1px;margin: -1px;overflow: hidden;padding: 0;position: absolute;width: 1px;}#sk-container-id-1 div.sk-estimator {font-family: monospace;background-color: #f0f8ff;border: 1px dotted black;border-radius: 0.25em;box-sizing: border-box;margin-bottom: 0.5em;}#sk-container-id-1 div.sk-estimator:hover {background-color: #d4ebff;}#sk-container-id-1 div.sk-parallel-item::after {content: \"\";width: 100%;border-bottom: 1px solid gray;flex-grow: 1;}#sk-container-id-1 div.sk-label:hover label.sk-toggleable__label {background-color: #d4ebff;}#sk-container-id-1 div.sk-serial::before {content: \"\";position: absolute;border-left: 1px solid gray;box-sizing: border-box;top: 0;bottom: 0;left: 50%;z-index: 0;}#sk-container-id-1 div.sk-serial {display: flex;flex-direction: column;align-items: center;background-color: white;padding-right: 0.2em;padding-left: 0.2em;position: relative;}#sk-container-id-1 div.sk-item {position: relative;z-index: 1;}#sk-container-id-1 div.sk-parallel {display: flex;align-items: stretch;justify-content: center;background-color: white;position: relative;}#sk-container-id-1 div.sk-item::before, #sk-container-id-1 div.sk-parallel-item::before {content: \"\";position: absolute;border-left: 1px solid gray;box-sizing: border-box;top: 0;bottom: 0;left: 50%;z-index: -1;}#sk-container-id-1 div.sk-parallel-item {display: flex;flex-direction: column;z-index: 1;position: relative;background-color: white;}#sk-container-id-1 div.sk-parallel-item:first-child::after {align-self: flex-end;width: 50%;}#sk-container-id-1 div.sk-parallel-item:last-child::after {align-self: flex-start;width: 50%;}#sk-container-id-1 div.sk-parallel-item:only-child::after {width: 0;}#sk-container-id-1 div.sk-dashed-wrapped {border: 1px dashed gray;margin: 0 0.4em 0.5em 0.4em;box-sizing: border-box;padding-bottom: 0.4em;background-color: white;}#sk-container-id-1 div.sk-label label {font-family: monospace;font-weight: bold;display: inline-block;line-height: 1.2em;}#sk-container-id-1 div.sk-label-container {text-align: center;}#sk-container-id-1 div.sk-container {/* jupyter's `normalize.less` sets `[hidden] { display: none; }` but bootstrap.min.css set `[hidden] { display: none !important; }` so we also need the `!important` here to be able to override the default hidden behavior on the sphinx rendered scikit-learn.org. See: https://github.com/scikit-learn/scikit-learn/issues/21755 */display: inline-block !important;position: relative;}#sk-container-id-1 div.sk-text-repr-fallback {display: none;}</style><div id=\"sk-container-id-1\" class=\"sk-top-container\"><div class=\"sk-text-repr-fallback\"><pre>RandomForestClassifier(random_state=42)</pre><b>In a Jupyter environment, please rerun this cell to show the HTML representation or trust the notebook. <br />On GitHub, the HTML representation is unable to render, please try loading this page with nbviewer.org.</b></div><div class=\"sk-container\" hidden><div class=\"sk-item\"><div class=\"sk-estimator sk-toggleable\"><input class=\"sk-toggleable__control sk-hidden--visually\" id=\"sk-estimator-id-1\" type=\"checkbox\" checked><label for=\"sk-estimator-id-1\" class=\"sk-toggleable__label sk-toggleable__label-arrow\">RandomForestClassifier</label><div class=\"sk-toggleable__content\"><pre>RandomForestClassifier(random_state=42)</pre></div></div></div></div></div>"
            ]
          },
          "metadata": {},
          "execution_count": 25
        }
      ]
    },
    {
      "cell_type": "code",
      "source": [
        "scores = cross_val_score(clf, X , y , cv=5)\n",
        "scores.mean()"
      ],
      "metadata": {
        "id": "kahzY7DU6wE-",
        "colab": {
          "base_uri": "https://localhost:8080/"
        },
        "outputId": "9f2d59e3-8214-41d0-9787-089b96c09808"
      },
      "id": "kahzY7DU6wE-",
      "execution_count": 26,
      "outputs": [
        {
          "output_type": "stream",
          "name": "stderr",
          "text": [
            "/usr/local/lib/python3.10/dist-packages/sklearn/model_selection/_validation.py:686: DataConversionWarning: A column-vector y was passed when a 1d array was expected. Please change the shape of y to (n_samples,), for example using ravel().\n",
            "  estimator.fit(X_train, y_train, **fit_params)\n",
            "/usr/local/lib/python3.10/dist-packages/sklearn/model_selection/_validation.py:686: DataConversionWarning: A column-vector y was passed when a 1d array was expected. Please change the shape of y to (n_samples,), for example using ravel().\n",
            "  estimator.fit(X_train, y_train, **fit_params)\n",
            "/usr/local/lib/python3.10/dist-packages/sklearn/model_selection/_validation.py:686: DataConversionWarning: A column-vector y was passed when a 1d array was expected. Please change the shape of y to (n_samples,), for example using ravel().\n",
            "  estimator.fit(X_train, y_train, **fit_params)\n",
            "/usr/local/lib/python3.10/dist-packages/sklearn/model_selection/_validation.py:686: DataConversionWarning: A column-vector y was passed when a 1d array was expected. Please change the shape of y to (n_samples,), for example using ravel().\n",
            "  estimator.fit(X_train, y_train, **fit_params)\n",
            "/usr/local/lib/python3.10/dist-packages/sklearn/model_selection/_validation.py:686: DataConversionWarning: A column-vector y was passed when a 1d array was expected. Please change the shape of y to (n_samples,), for example using ravel().\n",
            "  estimator.fit(X_train, y_train, **fit_params)\n"
          ]
        },
        {
          "output_type": "execute_result",
          "data": {
            "text/plain": [
              "0.9951163304470676"
            ]
          },
          "metadata": {},
          "execution_count": 26
        }
      ]
    },
    {
      "cell_type": "code",
      "source": [
        "hclf = HistGradientBoostingClassifier() # coz it can deal with nan values as well\n",
        "hclf.fit(X_train,y_train)"
      ],
      "metadata": {
        "colab": {
          "base_uri": "https://localhost:8080/",
          "height": 129
        },
        "id": "ras8LLwlP-Jg",
        "outputId": "741878b9-acbd-42d2-a28d-2163db82318e"
      },
      "id": "ras8LLwlP-Jg",
      "execution_count": 27,
      "outputs": [
        {
          "output_type": "stream",
          "name": "stderr",
          "text": [
            "/usr/local/lib/python3.10/dist-packages/sklearn/utils/validation.py:1143: DataConversionWarning: A column-vector y was passed when a 1d array was expected. Please change the shape of y to (n_samples, ), for example using ravel().\n",
            "  y = column_or_1d(y, warn=True)\n"
          ]
        },
        {
          "output_type": "execute_result",
          "data": {
            "text/plain": [
              "HistGradientBoostingClassifier()"
            ],
            "text/html": [
              "<style>#sk-container-id-2 {color: black;background-color: white;}#sk-container-id-2 pre{padding: 0;}#sk-container-id-2 div.sk-toggleable {background-color: white;}#sk-container-id-2 label.sk-toggleable__label {cursor: pointer;display: block;width: 100%;margin-bottom: 0;padding: 0.3em;box-sizing: border-box;text-align: center;}#sk-container-id-2 label.sk-toggleable__label-arrow:before {content: \"▸\";float: left;margin-right: 0.25em;color: #696969;}#sk-container-id-2 label.sk-toggleable__label-arrow:hover:before {color: black;}#sk-container-id-2 div.sk-estimator:hover label.sk-toggleable__label-arrow:before {color: black;}#sk-container-id-2 div.sk-toggleable__content {max-height: 0;max-width: 0;overflow: hidden;text-align: left;background-color: #f0f8ff;}#sk-container-id-2 div.sk-toggleable__content pre {margin: 0.2em;color: black;border-radius: 0.25em;background-color: #f0f8ff;}#sk-container-id-2 input.sk-toggleable__control:checked~div.sk-toggleable__content {max-height: 200px;max-width: 100%;overflow: auto;}#sk-container-id-2 input.sk-toggleable__control:checked~label.sk-toggleable__label-arrow:before {content: \"▾\";}#sk-container-id-2 div.sk-estimator input.sk-toggleable__control:checked~label.sk-toggleable__label {background-color: #d4ebff;}#sk-container-id-2 div.sk-label input.sk-toggleable__control:checked~label.sk-toggleable__label {background-color: #d4ebff;}#sk-container-id-2 input.sk-hidden--visually {border: 0;clip: rect(1px 1px 1px 1px);clip: rect(1px, 1px, 1px, 1px);height: 1px;margin: -1px;overflow: hidden;padding: 0;position: absolute;width: 1px;}#sk-container-id-2 div.sk-estimator {font-family: monospace;background-color: #f0f8ff;border: 1px dotted black;border-radius: 0.25em;box-sizing: border-box;margin-bottom: 0.5em;}#sk-container-id-2 div.sk-estimator:hover {background-color: #d4ebff;}#sk-container-id-2 div.sk-parallel-item::after {content: \"\";width: 100%;border-bottom: 1px solid gray;flex-grow: 1;}#sk-container-id-2 div.sk-label:hover label.sk-toggleable__label {background-color: #d4ebff;}#sk-container-id-2 div.sk-serial::before {content: \"\";position: absolute;border-left: 1px solid gray;box-sizing: border-box;top: 0;bottom: 0;left: 50%;z-index: 0;}#sk-container-id-2 div.sk-serial {display: flex;flex-direction: column;align-items: center;background-color: white;padding-right: 0.2em;padding-left: 0.2em;position: relative;}#sk-container-id-2 div.sk-item {position: relative;z-index: 1;}#sk-container-id-2 div.sk-parallel {display: flex;align-items: stretch;justify-content: center;background-color: white;position: relative;}#sk-container-id-2 div.sk-item::before, #sk-container-id-2 div.sk-parallel-item::before {content: \"\";position: absolute;border-left: 1px solid gray;box-sizing: border-box;top: 0;bottom: 0;left: 50%;z-index: -1;}#sk-container-id-2 div.sk-parallel-item {display: flex;flex-direction: column;z-index: 1;position: relative;background-color: white;}#sk-container-id-2 div.sk-parallel-item:first-child::after {align-self: flex-end;width: 50%;}#sk-container-id-2 div.sk-parallel-item:last-child::after {align-self: flex-start;width: 50%;}#sk-container-id-2 div.sk-parallel-item:only-child::after {width: 0;}#sk-container-id-2 div.sk-dashed-wrapped {border: 1px dashed gray;margin: 0 0.4em 0.5em 0.4em;box-sizing: border-box;padding-bottom: 0.4em;background-color: white;}#sk-container-id-2 div.sk-label label {font-family: monospace;font-weight: bold;display: inline-block;line-height: 1.2em;}#sk-container-id-2 div.sk-label-container {text-align: center;}#sk-container-id-2 div.sk-container {/* jupyter's `normalize.less` sets `[hidden] { display: none; }` but bootstrap.min.css set `[hidden] { display: none !important; }` so we also need the `!important` here to be able to override the default hidden behavior on the sphinx rendered scikit-learn.org. See: https://github.com/scikit-learn/scikit-learn/issues/21755 */display: inline-block !important;position: relative;}#sk-container-id-2 div.sk-text-repr-fallback {display: none;}</style><div id=\"sk-container-id-2\" class=\"sk-top-container\"><div class=\"sk-text-repr-fallback\"><pre>HistGradientBoostingClassifier()</pre><b>In a Jupyter environment, please rerun this cell to show the HTML representation or trust the notebook. <br />On GitHub, the HTML representation is unable to render, please try loading this page with nbviewer.org.</b></div><div class=\"sk-container\" hidden><div class=\"sk-item\"><div class=\"sk-estimator sk-toggleable\"><input class=\"sk-toggleable__control sk-hidden--visually\" id=\"sk-estimator-id-2\" type=\"checkbox\" checked><label for=\"sk-estimator-id-2\" class=\"sk-toggleable__label sk-toggleable__label-arrow\">HistGradientBoostingClassifier</label><div class=\"sk-toggleable__content\"><pre>HistGradientBoostingClassifier()</pre></div></div></div></div></div>"
            ]
          },
          "metadata": {},
          "execution_count": 27
        }
      ]
    },
    {
      "cell_type": "code",
      "source": [
        "y_val_pred = hclf.predict(X_val)"
      ],
      "metadata": {
        "id": "wemDhWxvR94I"
      },
      "id": "wemDhWxvR94I",
      "execution_count": 28,
      "outputs": []
    },
    {
      "cell_type": "code",
      "source": [
        "y_val_pred2 = clf.predict(X_val)"
      ],
      "metadata": {
        "id": "AFQEOMx2qDzX"
      },
      "id": "AFQEOMx2qDzX",
      "execution_count": 107,
      "outputs": []
    },
    {
      "cell_type": "code",
      "source": [
        "ct = 0\n",
        "for i in y_val_pred2:\n",
        "  if(i<0.5):\n",
        "    ct+=1\n",
        "print(y_val_pred2.shape,\" \",ct)"
      ],
      "metadata": {
        "colab": {
          "base_uri": "https://localhost:8080/"
        },
        "id": "NsEpopbPMTV5",
        "outputId": "fcac0a00-dea9-47a8-e41c-798c3e0673e1"
      },
      "id": "NsEpopbPMTV5",
      "execution_count": 152,
      "outputs": [
        {
          "output_type": "stream",
          "name": "stdout",
          "text": [
            "(43738,)   30120\n"
          ]
        }
      ]
    },
    {
      "cell_type": "code",
      "source": [
        "f1_score(y_val,y_val_pred)"
      ],
      "metadata": {
        "colab": {
          "base_uri": "https://localhost:8080/"
        },
        "id": "qWGBAzKlSg0T",
        "outputId": "be54157b-b261-4583-e74f-4139dc50311f"
      },
      "id": "qWGBAzKlSg0T",
      "execution_count": 29,
      "outputs": [
        {
          "output_type": "execute_result",
          "data": {
            "text/plain": [
              "0.9687615663631652"
            ]
          },
          "metadata": {},
          "execution_count": 29
        }
      ]
    },
    {
      "cell_type": "markdown",
      "source": [
        "got an f1 score of 0.96 with this"
      ],
      "metadata": {
        "id": "tWWl_u67_MaG"
      },
      "id": "tWWl_u67_MaG"
    },
    {
      "cell_type": "code",
      "source": [
        "f1_score(y_val,y_val_pred2)"
      ],
      "metadata": {
        "colab": {
          "base_uri": "https://localhost:8080/"
        },
        "id": "KWzOWsTDqImn",
        "outputId": "b500970b-7066-4f7b-b0c5-8c49073587d0"
      },
      "id": "KWzOWsTDqImn",
      "execution_count": 108,
      "outputs": [
        {
          "output_type": "execute_result",
          "data": {
            "text/plain": [
              "0.9885503164209679"
            ]
          },
          "metadata": {},
          "execution_count": 108
        }
      ]
    },
    {
      "cell_type": "code",
      "source": [
        "df_test = pd.read_csv('/content/drive/MyDrive/hackathon/Doceree-HCP_Test.csv')"
      ],
      "metadata": {
        "id": "AXybTidbJXe0"
      },
      "id": "AXybTidbJXe0",
      "execution_count": 86,
      "outputs": []
    },
    {
      "cell_type": "code",
      "source": [
        "df_test.isnull().sum()"
      ],
      "metadata": {
        "colab": {
          "base_uri": "https://localhost:8080/"
        },
        "id": "2WNP9o9OO22G",
        "outputId": "192378e5-9748-474c-e340-860782e5dde4"
      },
      "id": "2WNP9o9OO22G",
      "execution_count": null,
      "outputs": [
        {
          "output_type": "execute_result",
          "data": {
            "text/plain": [
              "ID                    0\n",
              "DEVICETYPE            0\n",
              "PLATFORM_ID           0\n",
              "BIDREQUESTIP          0\n",
              "USERPLATFORMUID       0\n",
              "USERCITY           1559\n",
              "USERZIPCODE        1115\n",
              "USERAGENT             1\n",
              "PLATFORMTYPE          0\n",
              "CHANNELTYPE           0\n",
              "URL                   0\n",
              "KEYWORDS              0\n",
              "dtype: int64"
            ]
          },
          "metadata": {},
          "execution_count": 61
        }
      ]
    },
    {
      "cell_type": "code",
      "source": [
        "bid = vectorizer.transform(df_test['BIDREQUESTIP'])\n",
        "bid = pd.DataFrame(bid.toarray())"
      ],
      "metadata": {
        "id": "APlRLmLc49_h"
      },
      "id": "APlRLmLc49_h",
      "execution_count": 87,
      "outputs": []
    },
    {
      "cell_type": "code",
      "source": [
        "kywrd = tfidf.transform(df_test['KEYWORDS'])\n",
        "kywrd = pd.DataFrame(kywrd.toarray(),columns = tfidf.get_feature_names_out())"
      ],
      "metadata": {
        "id": "wcWrcdgb5YKc"
      },
      "id": "wcWrcdgb5YKc",
      "execution_count": 88,
      "outputs": []
    },
    {
      "cell_type": "code",
      "source": [
        "df_test = pd.concat([df_test,bid,kywrd],axis=1)"
      ],
      "metadata": {
        "id": "s3ov_SdCOphy"
      },
      "id": "s3ov_SdCOphy",
      "execution_count": 89,
      "outputs": []
    },
    {
      "cell_type": "code",
      "source": [
        "null = dict(df_test.isnull().sum())"
      ],
      "metadata": {
        "id": "0W0eS4kAO-Hh"
      },
      "id": "0W0eS4kAO-Hh",
      "execution_count": 72,
      "outputs": []
    },
    {
      "cell_type": "code",
      "source": [
        "keys = null.keys()\n",
        "for key in keys:\n",
        "  if(null[key] == 1):\n",
        "    print(\"there is null value\")"
      ],
      "metadata": {
        "colab": {
          "base_uri": "https://localhost:8080/"
        },
        "id": "hxj9nYwwPC5M",
        "outputId": "b0346fa7-a1b5-4de9-b21d-ea0aa2bba422"
      },
      "id": "hxj9nYwwPC5M",
      "execution_count": 73,
      "outputs": [
        {
          "output_type": "stream",
          "name": "stdout",
          "text": [
            "there is null value\n"
          ]
        }
      ]
    },
    {
      "cell_type": "markdown",
      "source": [
        "there are no null values n df_test"
      ],
      "metadata": {
        "id": "xoeeKilpPOr_"
      },
      "id": "xoeeKilpPOr_"
    },
    {
      "cell_type": "code",
      "source": [
        "id_t = df_test['ID']\n",
        "df_test = drp(df_test)\n",
        "df_test = df_test.drop(['BIDREQUESTIP','KEYWORDS','ID'],axis = 1)\n",
        "df_test = ohe(df_test,'DEVICETYPE')\n",
        "df_test = ohe(df_test,'PLATFORMTYPE')"
      ],
      "metadata": {
        "id": "B6Nj4gFV6yA8"
      },
      "id": "B6Nj4gFV6yA8",
      "execution_count": 92,
      "outputs": []
    },
    {
      "cell_type": "code",
      "source": [
        "null = dict(df_test.isnull().sum())\n",
        "keys = null.keys()\n",
        "for key in keys:\n",
        "  if(null[key] == 1):\n",
        "    print(\"there is null value\")"
      ],
      "metadata": {
        "id": "EyAiyAM0PSkC"
      },
      "id": "EyAiyAM0PSkC",
      "execution_count": 75,
      "outputs": []
    },
    {
      "cell_type": "markdown",
      "source": [
        "decteing the mission column in test data frame and inculcating them in it"
      ],
      "metadata": {
        "id": "ItYuTXC5_T9q"
      },
      "id": "ItYuTXC5_T9q"
    },
    {
      "cell_type": "code",
      "source": [
        "trcol = list(df_hcp.columns)\n",
        "tstcol = list(df_test.columns)"
      ],
      "metadata": {
        "id": "OaPMoxKxQyvR"
      },
      "id": "OaPMoxKxQyvR",
      "execution_count": 93,
      "outputs": []
    },
    {
      "cell_type": "code",
      "source": [
        "msngcol = []\n",
        "index = []\n",
        "ind = 0\n",
        "for i in trcol:\n",
        "  if i not in tstcol:\n",
        "    msngcol.append(i)\n",
        "    index.append(ind)\n",
        "  ind+=1\n",
        "index"
      ],
      "metadata": {
        "colab": {
          "base_uri": "https://localhost:8080/"
        },
        "id": "3k06D1QcRBCW",
        "outputId": "0691b12b-947b-46fa-83c0-09bb4df75d52"
      },
      "id": "3k06D1QcRBCW",
      "execution_count": 94,
      "outputs": [
        {
          "output_type": "execute_result",
          "data": {
            "text/plain": [
              "[2, 1473]"
            ]
          },
          "metadata": {},
          "execution_count": 94
        }
      ]
    },
    {
      "cell_type": "code",
      "source": [
        "msngcol"
      ],
      "metadata": {
        "colab": {
          "base_uri": "https://localhost:8080/"
        },
        "id": "WijfSwvjRJvo",
        "outputId": "f0490001-16c2-447a-93b3-b50852289952"
      },
      "id": "WijfSwvjRJvo",
      "execution_count": 58,
      "outputs": [
        {
          "output_type": "execute_result",
          "data": {
            "text/plain": [
              "['IS_HCP', 'PLATFORMTYPE_Tele-medicine Platform']"
            ]
          },
          "metadata": {},
          "execution_count": 58
        }
      ]
    },
    {
      "cell_type": "code",
      "source": [
        "col = np.zeros([df_test.shape[0],1])\n",
        "col = pd.DataFrame(col,columns = ['PLATFORMTYPE_Tele-medicine Platform'])\n",
        "df_test = pd.concat([df_test,col],axis = 1)"
      ],
      "metadata": {
        "id": "uHEhui7KUMsi"
      },
      "id": "uHEhui7KUMsi",
      "execution_count": 95,
      "outputs": []
    },
    {
      "cell_type": "code",
      "source": [
        "df_test[\"USERZIPCODE\"].fillna( method ='ffill', inplace = True)"
      ],
      "metadata": {
        "id": "JYrGWdD5qo-G"
      },
      "id": "JYrGWdD5qo-G",
      "execution_count": 96,
      "outputs": []
    },
    {
      "cell_type": "code",
      "source": [
        "X_test = df_test\n",
        "X_test.columns = X_test.columns.astype(str)\n",
        "X_test = scale(X_test)\n",
        "X_test.shape"
      ],
      "metadata": {
        "colab": {
          "base_uri": "https://localhost:8080/"
        },
        "id": "JswaIANc8bKG",
        "outputId": "b97b8fb7-b8e8-4de2-b06b-924dbcb9cd59"
      },
      "id": "JswaIANc8bKG",
      "execution_count": 97,
      "outputs": [
        {
          "output_type": "execute_result",
          "data": {
            "text/plain": [
              "(28493, 1473)"
            ]
          },
          "metadata": {},
          "execution_count": 97
        }
      ]
    },
    {
      "cell_type": "code",
      "source": [
        "y_test = model.predict(X_test)"
      ],
      "metadata": {
        "id": "vhXObnNsKy0r",
        "colab": {
          "base_uri": "https://localhost:8080/"
        },
        "outputId": "73070739-40dd-49c8-a40e-a1cc555c05f4"
      },
      "id": "vhXObnNsKy0r",
      "execution_count": 125,
      "outputs": [
        {
          "output_type": "stream",
          "name": "stdout",
          "text": [
            "891/891 [==============================] - 2s 2ms/step\n"
          ]
        }
      ]
    },
    {
      "cell_type": "code",
      "source": [
        "for i in range (y_test.shape[0]):\n",
        "  if(y_test[i]<0.5):\n",
        "    y_test[i] = 0\n",
        "  else:\n",
        "    y_test[i] = 1"
      ],
      "metadata": {
        "id": "8S-X4yUNNhgF"
      },
      "id": "8S-X4yUNNhgF",
      "execution_count": 126,
      "outputs": []
    },
    {
      "cell_type": "code",
      "source": [
        "y_test2 = clf.predict(X_test)"
      ],
      "metadata": {
        "id": "QzsqlKXYqUBy"
      },
      "id": "QzsqlKXYqUBy",
      "execution_count": 112,
      "outputs": []
    },
    {
      "cell_type": "code",
      "source": [
        "is_hcp = pd.DataFrame(y_test,columns = ['IS_HCP'])"
      ],
      "metadata": {
        "id": "KLBeZC2OYpeF"
      },
      "id": "KLBeZC2OYpeF",
      "execution_count": 127,
      "outputs": []
    },
    {
      "cell_type": "markdown",
      "source": [
        "got the predicted values"
      ],
      "metadata": {
        "id": "qqw-tHKL_e5w"
      },
      "id": "qqw-tHKL_e5w"
    },
    {
      "cell_type": "code",
      "source": [
        "is_hcp2 = pd.DataFrame(y_test2,columns = ['IS_HCP'])"
      ],
      "metadata": {
        "id": "dHN82_gQqvTG"
      },
      "id": "dHN82_gQqvTG",
      "execution_count": 113,
      "outputs": []
    },
    {
      "cell_type": "code",
      "source": [
        "is_hcp2.head()"
      ],
      "metadata": {
        "colab": {
          "base_uri": "https://localhost:8080/",
          "height": 206
        },
        "id": "zr4dfe5aqz-Z",
        "outputId": "1d087083-0743-4426-a9db-95771199255c"
      },
      "id": "zr4dfe5aqz-Z",
      "execution_count": 114,
      "outputs": [
        {
          "output_type": "execute_result",
          "data": {
            "text/plain": [
              "   IS_HCP\n",
              "0     0.0\n",
              "1     1.0\n",
              "2     0.0\n",
              "3     0.0\n",
              "4     1.0"
            ],
            "text/html": [
              "\n",
              "  <div id=\"df-f76f3739-0301-4228-8b7f-0da8679946c4\">\n",
              "    <div class=\"colab-df-container\">\n",
              "      <div>\n",
              "<style scoped>\n",
              "    .dataframe tbody tr th:only-of-type {\n",
              "        vertical-align: middle;\n",
              "    }\n",
              "\n",
              "    .dataframe tbody tr th {\n",
              "        vertical-align: top;\n",
              "    }\n",
              "\n",
              "    .dataframe thead th {\n",
              "        text-align: right;\n",
              "    }\n",
              "</style>\n",
              "<table border=\"1\" class=\"dataframe\">\n",
              "  <thead>\n",
              "    <tr style=\"text-align: right;\">\n",
              "      <th></th>\n",
              "      <th>IS_HCP</th>\n",
              "    </tr>\n",
              "  </thead>\n",
              "  <tbody>\n",
              "    <tr>\n",
              "      <th>0</th>\n",
              "      <td>0.0</td>\n",
              "    </tr>\n",
              "    <tr>\n",
              "      <th>1</th>\n",
              "      <td>1.0</td>\n",
              "    </tr>\n",
              "    <tr>\n",
              "      <th>2</th>\n",
              "      <td>0.0</td>\n",
              "    </tr>\n",
              "    <tr>\n",
              "      <th>3</th>\n",
              "      <td>0.0</td>\n",
              "    </tr>\n",
              "    <tr>\n",
              "      <th>4</th>\n",
              "      <td>1.0</td>\n",
              "    </tr>\n",
              "  </tbody>\n",
              "</table>\n",
              "</div>\n",
              "      <button class=\"colab-df-convert\" onclick=\"convertToInteractive('df-f76f3739-0301-4228-8b7f-0da8679946c4')\"\n",
              "              title=\"Convert this dataframe to an interactive table.\"\n",
              "              style=\"display:none;\">\n",
              "        \n",
              "  <svg xmlns=\"http://www.w3.org/2000/svg\" height=\"24px\"viewBox=\"0 0 24 24\"\n",
              "       width=\"24px\">\n",
              "    <path d=\"M0 0h24v24H0V0z\" fill=\"none\"/>\n",
              "    <path d=\"M18.56 5.44l.94 2.06.94-2.06 2.06-.94-2.06-.94-.94-2.06-.94 2.06-2.06.94zm-11 1L8.5 8.5l.94-2.06 2.06-.94-2.06-.94L8.5 2.5l-.94 2.06-2.06.94zm10 10l.94 2.06.94-2.06 2.06-.94-2.06-.94-.94-2.06-.94 2.06-2.06.94z\"/><path d=\"M17.41 7.96l-1.37-1.37c-.4-.4-.92-.59-1.43-.59-.52 0-1.04.2-1.43.59L10.3 9.45l-7.72 7.72c-.78.78-.78 2.05 0 2.83L4 21.41c.39.39.9.59 1.41.59.51 0 1.02-.2 1.41-.59l7.78-7.78 2.81-2.81c.8-.78.8-2.07 0-2.86zM5.41 20L4 18.59l7.72-7.72 1.47 1.35L5.41 20z\"/>\n",
              "  </svg>\n",
              "      </button>\n",
              "      \n",
              "  <style>\n",
              "    .colab-df-container {\n",
              "      display:flex;\n",
              "      flex-wrap:wrap;\n",
              "      gap: 12px;\n",
              "    }\n",
              "\n",
              "    .colab-df-convert {\n",
              "      background-color: #E8F0FE;\n",
              "      border: none;\n",
              "      border-radius: 50%;\n",
              "      cursor: pointer;\n",
              "      display: none;\n",
              "      fill: #1967D2;\n",
              "      height: 32px;\n",
              "      padding: 0 0 0 0;\n",
              "      width: 32px;\n",
              "    }\n",
              "\n",
              "    .colab-df-convert:hover {\n",
              "      background-color: #E2EBFA;\n",
              "      box-shadow: 0px 1px 2px rgba(60, 64, 67, 0.3), 0px 1px 3px 1px rgba(60, 64, 67, 0.15);\n",
              "      fill: #174EA6;\n",
              "    }\n",
              "\n",
              "    [theme=dark] .colab-df-convert {\n",
              "      background-color: #3B4455;\n",
              "      fill: #D2E3FC;\n",
              "    }\n",
              "\n",
              "    [theme=dark] .colab-df-convert:hover {\n",
              "      background-color: #434B5C;\n",
              "      box-shadow: 0px 1px 3px 1px rgba(0, 0, 0, 0.15);\n",
              "      filter: drop-shadow(0px 1px 2px rgba(0, 0, 0, 0.3));\n",
              "      fill: #FFFFFF;\n",
              "    }\n",
              "  </style>\n",
              "\n",
              "      <script>\n",
              "        const buttonEl =\n",
              "          document.querySelector('#df-f76f3739-0301-4228-8b7f-0da8679946c4 button.colab-df-convert');\n",
              "        buttonEl.style.display =\n",
              "          google.colab.kernel.accessAllowed ? 'block' : 'none';\n",
              "\n",
              "        async function convertToInteractive(key) {\n",
              "          const element = document.querySelector('#df-f76f3739-0301-4228-8b7f-0da8679946c4');\n",
              "          const dataTable =\n",
              "            await google.colab.kernel.invokeFunction('convertToInteractive',\n",
              "                                                     [key], {});\n",
              "          if (!dataTable) return;\n",
              "\n",
              "          const docLinkHtml = 'Like what you see? Visit the ' +\n",
              "            '<a target=\"_blank\" href=https://colab.research.google.com/notebooks/data_table.ipynb>data table notebook</a>'\n",
              "            + ' to learn more about interactive tables.';\n",
              "          element.innerHTML = '';\n",
              "          dataTable['output_type'] = 'display_data';\n",
              "          await google.colab.output.renderOutput(dataTable, element);\n",
              "          const docLink = document.createElement('div');\n",
              "          docLink.innerHTML = docLinkHtml;\n",
              "          element.appendChild(docLink);\n",
              "        }\n",
              "      </script>\n",
              "    </div>\n",
              "  </div>\n",
              "  "
            ]
          },
          "metadata": {},
          "execution_count": 114
        }
      ]
    },
    {
      "cell_type": "code",
      "source": [
        "is_hcp"
      ],
      "metadata": {
        "colab": {
          "base_uri": "https://localhost:8080/",
          "height": 423
        },
        "id": "1AxIP2AaZ6JV",
        "outputId": "b39055c6-323e-467f-84aa-f9be8e25f5cc"
      },
      "id": "1AxIP2AaZ6JV",
      "execution_count": 65,
      "outputs": [
        {
          "output_type": "execute_result",
          "data": {
            "text/plain": [
              "       IS_HCP\n",
              "0         0.0\n",
              "1         1.0\n",
              "2         0.0\n",
              "3         0.0\n",
              "4         1.0\n",
              "...       ...\n",
              "28488     0.0\n",
              "28489     0.0\n",
              "28490     0.0\n",
              "28491     0.0\n",
              "28492     0.0\n",
              "\n",
              "[28493 rows x 1 columns]"
            ],
            "text/html": [
              "\n",
              "  <div id=\"df-966419f6-face-4e5c-80c3-03a56fe70f02\">\n",
              "    <div class=\"colab-df-container\">\n",
              "      <div>\n",
              "<style scoped>\n",
              "    .dataframe tbody tr th:only-of-type {\n",
              "        vertical-align: middle;\n",
              "    }\n",
              "\n",
              "    .dataframe tbody tr th {\n",
              "        vertical-align: top;\n",
              "    }\n",
              "\n",
              "    .dataframe thead th {\n",
              "        text-align: right;\n",
              "    }\n",
              "</style>\n",
              "<table border=\"1\" class=\"dataframe\">\n",
              "  <thead>\n",
              "    <tr style=\"text-align: right;\">\n",
              "      <th></th>\n",
              "      <th>IS_HCP</th>\n",
              "    </tr>\n",
              "  </thead>\n",
              "  <tbody>\n",
              "    <tr>\n",
              "      <th>0</th>\n",
              "      <td>0.0</td>\n",
              "    </tr>\n",
              "    <tr>\n",
              "      <th>1</th>\n",
              "      <td>1.0</td>\n",
              "    </tr>\n",
              "    <tr>\n",
              "      <th>2</th>\n",
              "      <td>0.0</td>\n",
              "    </tr>\n",
              "    <tr>\n",
              "      <th>3</th>\n",
              "      <td>0.0</td>\n",
              "    </tr>\n",
              "    <tr>\n",
              "      <th>4</th>\n",
              "      <td>1.0</td>\n",
              "    </tr>\n",
              "    <tr>\n",
              "      <th>...</th>\n",
              "      <td>...</td>\n",
              "    </tr>\n",
              "    <tr>\n",
              "      <th>28488</th>\n",
              "      <td>0.0</td>\n",
              "    </tr>\n",
              "    <tr>\n",
              "      <th>28489</th>\n",
              "      <td>0.0</td>\n",
              "    </tr>\n",
              "    <tr>\n",
              "      <th>28490</th>\n",
              "      <td>0.0</td>\n",
              "    </tr>\n",
              "    <tr>\n",
              "      <th>28491</th>\n",
              "      <td>0.0</td>\n",
              "    </tr>\n",
              "    <tr>\n",
              "      <th>28492</th>\n",
              "      <td>0.0</td>\n",
              "    </tr>\n",
              "  </tbody>\n",
              "</table>\n",
              "<p>28493 rows × 1 columns</p>\n",
              "</div>\n",
              "      <button class=\"colab-df-convert\" onclick=\"convertToInteractive('df-966419f6-face-4e5c-80c3-03a56fe70f02')\"\n",
              "              title=\"Convert this dataframe to an interactive table.\"\n",
              "              style=\"display:none;\">\n",
              "        \n",
              "  <svg xmlns=\"http://www.w3.org/2000/svg\" height=\"24px\"viewBox=\"0 0 24 24\"\n",
              "       width=\"24px\">\n",
              "    <path d=\"M0 0h24v24H0V0z\" fill=\"none\"/>\n",
              "    <path d=\"M18.56 5.44l.94 2.06.94-2.06 2.06-.94-2.06-.94-.94-2.06-.94 2.06-2.06.94zm-11 1L8.5 8.5l.94-2.06 2.06-.94-2.06-.94L8.5 2.5l-.94 2.06-2.06.94zm10 10l.94 2.06.94-2.06 2.06-.94-2.06-.94-.94-2.06-.94 2.06-2.06.94z\"/><path d=\"M17.41 7.96l-1.37-1.37c-.4-.4-.92-.59-1.43-.59-.52 0-1.04.2-1.43.59L10.3 9.45l-7.72 7.72c-.78.78-.78 2.05 0 2.83L4 21.41c.39.39.9.59 1.41.59.51 0 1.02-.2 1.41-.59l7.78-7.78 2.81-2.81c.8-.78.8-2.07 0-2.86zM5.41 20L4 18.59l7.72-7.72 1.47 1.35L5.41 20z\"/>\n",
              "  </svg>\n",
              "      </button>\n",
              "      \n",
              "  <style>\n",
              "    .colab-df-container {\n",
              "      display:flex;\n",
              "      flex-wrap:wrap;\n",
              "      gap: 12px;\n",
              "    }\n",
              "\n",
              "    .colab-df-convert {\n",
              "      background-color: #E8F0FE;\n",
              "      border: none;\n",
              "      border-radius: 50%;\n",
              "      cursor: pointer;\n",
              "      display: none;\n",
              "      fill: #1967D2;\n",
              "      height: 32px;\n",
              "      padding: 0 0 0 0;\n",
              "      width: 32px;\n",
              "    }\n",
              "\n",
              "    .colab-df-convert:hover {\n",
              "      background-color: #E2EBFA;\n",
              "      box-shadow: 0px 1px 2px rgba(60, 64, 67, 0.3), 0px 1px 3px 1px rgba(60, 64, 67, 0.15);\n",
              "      fill: #174EA6;\n",
              "    }\n",
              "\n",
              "    [theme=dark] .colab-df-convert {\n",
              "      background-color: #3B4455;\n",
              "      fill: #D2E3FC;\n",
              "    }\n",
              "\n",
              "    [theme=dark] .colab-df-convert:hover {\n",
              "      background-color: #434B5C;\n",
              "      box-shadow: 0px 1px 3px 1px rgba(0, 0, 0, 0.15);\n",
              "      filter: drop-shadow(0px 1px 2px rgba(0, 0, 0, 0.3));\n",
              "      fill: #FFFFFF;\n",
              "    }\n",
              "  </style>\n",
              "\n",
              "      <script>\n",
              "        const buttonEl =\n",
              "          document.querySelector('#df-966419f6-face-4e5c-80c3-03a56fe70f02 button.colab-df-convert');\n",
              "        buttonEl.style.display =\n",
              "          google.colab.kernel.accessAllowed ? 'block' : 'none';\n",
              "\n",
              "        async function convertToInteractive(key) {\n",
              "          const element = document.querySelector('#df-966419f6-face-4e5c-80c3-03a56fe70f02');\n",
              "          const dataTable =\n",
              "            await google.colab.kernel.invokeFunction('convertToInteractive',\n",
              "                                                     [key], {});\n",
              "          if (!dataTable) return;\n",
              "\n",
              "          const docLinkHtml = 'Like what you see? Visit the ' +\n",
              "            '<a target=\"_blank\" href=https://colab.research.google.com/notebooks/data_table.ipynb>data table notebook</a>'\n",
              "            + ' to learn more about interactive tables.';\n",
              "          element.innerHTML = '';\n",
              "          dataTable['output_type'] = 'display_data';\n",
              "          await google.colab.output.renderOutput(dataTable, element);\n",
              "          const docLink = document.createElement('div');\n",
              "          docLink.innerHTML = docLinkHtml;\n",
              "          element.appendChild(docLink);\n",
              "        }\n",
              "      </script>\n",
              "    </div>\n",
              "  </div>\n",
              "  "
            ]
          },
          "metadata": {},
          "execution_count": 65
        }
      ]
    },
    {
      "cell_type": "code",
      "source": [
        "id = pd.DataFrame(id,columns = ['ID'])"
      ],
      "metadata": {
        "id": "zGtaJAHRZyvy"
      },
      "id": "zGtaJAHRZyvy",
      "execution_count": 84,
      "outputs": []
    },
    {
      "cell_type": "code",
      "source": [
        "fa = pd.concat([id,is_hcp],axis = 1)\n",
        "fa.head()"
      ],
      "metadata": {
        "colab": {
          "base_uri": "https://localhost:8080/",
          "height": 206
        },
        "id": "EnmQKzsLZatR",
        "outputId": "2ce14099-a560-4418-f40c-17485a265718"
      },
      "id": "EnmQKzsLZatR",
      "execution_count": 85,
      "outputs": [
        {
          "output_type": "execute_result",
          "data": {
            "text/plain": [
              "     ID  IS_HCP\n",
              "0  1001     0.0\n",
              "1  1002     1.0\n",
              "2  1003     0.0\n",
              "3  1004     0.0\n",
              "4  1005     1.0"
            ],
            "text/html": [
              "\n",
              "  <div id=\"df-8b65dbed-11d0-4e6a-9ac7-27c6e9e8eb78\">\n",
              "    <div class=\"colab-df-container\">\n",
              "      <div>\n",
              "<style scoped>\n",
              "    .dataframe tbody tr th:only-of-type {\n",
              "        vertical-align: middle;\n",
              "    }\n",
              "\n",
              "    .dataframe tbody tr th {\n",
              "        vertical-align: top;\n",
              "    }\n",
              "\n",
              "    .dataframe thead th {\n",
              "        text-align: right;\n",
              "    }\n",
              "</style>\n",
              "<table border=\"1\" class=\"dataframe\">\n",
              "  <thead>\n",
              "    <tr style=\"text-align: right;\">\n",
              "      <th></th>\n",
              "      <th>ID</th>\n",
              "      <th>IS_HCP</th>\n",
              "    </tr>\n",
              "  </thead>\n",
              "  <tbody>\n",
              "    <tr>\n",
              "      <th>0</th>\n",
              "      <td>1001</td>\n",
              "      <td>0.0</td>\n",
              "    </tr>\n",
              "    <tr>\n",
              "      <th>1</th>\n",
              "      <td>1002</td>\n",
              "      <td>1.0</td>\n",
              "    </tr>\n",
              "    <tr>\n",
              "      <th>2</th>\n",
              "      <td>1003</td>\n",
              "      <td>0.0</td>\n",
              "    </tr>\n",
              "    <tr>\n",
              "      <th>3</th>\n",
              "      <td>1004</td>\n",
              "      <td>0.0</td>\n",
              "    </tr>\n",
              "    <tr>\n",
              "      <th>4</th>\n",
              "      <td>1005</td>\n",
              "      <td>1.0</td>\n",
              "    </tr>\n",
              "  </tbody>\n",
              "</table>\n",
              "</div>\n",
              "      <button class=\"colab-df-convert\" onclick=\"convertToInteractive('df-8b65dbed-11d0-4e6a-9ac7-27c6e9e8eb78')\"\n",
              "              title=\"Convert this dataframe to an interactive table.\"\n",
              "              style=\"display:none;\">\n",
              "        \n",
              "  <svg xmlns=\"http://www.w3.org/2000/svg\" height=\"24px\"viewBox=\"0 0 24 24\"\n",
              "       width=\"24px\">\n",
              "    <path d=\"M0 0h24v24H0V0z\" fill=\"none\"/>\n",
              "    <path d=\"M18.56 5.44l.94 2.06.94-2.06 2.06-.94-2.06-.94-.94-2.06-.94 2.06-2.06.94zm-11 1L8.5 8.5l.94-2.06 2.06-.94-2.06-.94L8.5 2.5l-.94 2.06-2.06.94zm10 10l.94 2.06.94-2.06 2.06-.94-2.06-.94-.94-2.06-.94 2.06-2.06.94z\"/><path d=\"M17.41 7.96l-1.37-1.37c-.4-.4-.92-.59-1.43-.59-.52 0-1.04.2-1.43.59L10.3 9.45l-7.72 7.72c-.78.78-.78 2.05 0 2.83L4 21.41c.39.39.9.59 1.41.59.51 0 1.02-.2 1.41-.59l7.78-7.78 2.81-2.81c.8-.78.8-2.07 0-2.86zM5.41 20L4 18.59l7.72-7.72 1.47 1.35L5.41 20z\"/>\n",
              "  </svg>\n",
              "      </button>\n",
              "      \n",
              "  <style>\n",
              "    .colab-df-container {\n",
              "      display:flex;\n",
              "      flex-wrap:wrap;\n",
              "      gap: 12px;\n",
              "    }\n",
              "\n",
              "    .colab-df-convert {\n",
              "      background-color: #E8F0FE;\n",
              "      border: none;\n",
              "      border-radius: 50%;\n",
              "      cursor: pointer;\n",
              "      display: none;\n",
              "      fill: #1967D2;\n",
              "      height: 32px;\n",
              "      padding: 0 0 0 0;\n",
              "      width: 32px;\n",
              "    }\n",
              "\n",
              "    .colab-df-convert:hover {\n",
              "      background-color: #E2EBFA;\n",
              "      box-shadow: 0px 1px 2px rgba(60, 64, 67, 0.3), 0px 1px 3px 1px rgba(60, 64, 67, 0.15);\n",
              "      fill: #174EA6;\n",
              "    }\n",
              "\n",
              "    [theme=dark] .colab-df-convert {\n",
              "      background-color: #3B4455;\n",
              "      fill: #D2E3FC;\n",
              "    }\n",
              "\n",
              "    [theme=dark] .colab-df-convert:hover {\n",
              "      background-color: #434B5C;\n",
              "      box-shadow: 0px 1px 3px 1px rgba(0, 0, 0, 0.15);\n",
              "      filter: drop-shadow(0px 1px 2px rgba(0, 0, 0, 0.3));\n",
              "      fill: #FFFFFF;\n",
              "    }\n",
              "  </style>\n",
              "\n",
              "      <script>\n",
              "        const buttonEl =\n",
              "          document.querySelector('#df-8b65dbed-11d0-4e6a-9ac7-27c6e9e8eb78 button.colab-df-convert');\n",
              "        buttonEl.style.display =\n",
              "          google.colab.kernel.accessAllowed ? 'block' : 'none';\n",
              "\n",
              "        async function convertToInteractive(key) {\n",
              "          const element = document.querySelector('#df-8b65dbed-11d0-4e6a-9ac7-27c6e9e8eb78');\n",
              "          const dataTable =\n",
              "            await google.colab.kernel.invokeFunction('convertToInteractive',\n",
              "                                                     [key], {});\n",
              "          if (!dataTable) return;\n",
              "\n",
              "          const docLinkHtml = 'Like what you see? Visit the ' +\n",
              "            '<a target=\"_blank\" href=https://colab.research.google.com/notebooks/data_table.ipynb>data table notebook</a>'\n",
              "            + ' to learn more about interactive tables.';\n",
              "          element.innerHTML = '';\n",
              "          dataTable['output_type'] = 'display_data';\n",
              "          await google.colab.output.renderOutput(dataTable, element);\n",
              "          const docLink = document.createElement('div');\n",
              "          docLink.innerHTML = docLinkHtml;\n",
              "          element.appendChild(docLink);\n",
              "        }\n",
              "      </script>\n",
              "    </div>\n",
              "  </div>\n",
              "  "
            ]
          },
          "metadata": {},
          "execution_count": 85
        }
      ]
    },
    {
      "cell_type": "markdown",
      "source": [
        "finally saving the file as .csv"
      ],
      "metadata": {
        "id": "uWgFJQEx_hwO"
      },
      "id": "uWgFJQEx_hwO"
    },
    {
      "cell_type": "code",
      "source": [
        "fa.to_csv('IS_HCP.csv')"
      ],
      "metadata": {
        "id": "jWAXE07gaC9l"
      },
      "id": "jWAXE07gaC9l",
      "execution_count": 86,
      "outputs": []
    },
    {
      "cell_type": "code",
      "source": [
        "df_temp = pd.read_csv('/content/drive/MyDrive/hackathon/Doceree-HCP_Test.csv')"
      ],
      "metadata": {
        "id": "cIB5lqn0f58r"
      },
      "id": "cIB5lqn0f58r",
      "execution_count": 87,
      "outputs": []
    },
    {
      "cell_type": "code",
      "source": [
        "df_temp.head()"
      ],
      "metadata": {
        "colab": {
          "base_uri": "https://localhost:8080/",
          "height": 634
        },
        "id": "bfgWc6GTh3Gl",
        "outputId": "50ecae04-43c7-45d4-fbc2-66676c0d4431"
      },
      "id": "bfgWc6GTh3Gl",
      "execution_count": 91,
      "outputs": [
        {
          "output_type": "execute_result",
          "data": {
            "text/plain": [
              "       ID DEVICETYPE  PLATFORM_ID     BIDREQUESTIP  \\\n",
              "0  115501    Desktop            2   75.189.231.103   \n",
              "1  115502     Mobile            2    24.101.33.158   \n",
              "2  115503    Desktop            2  172.118.216.142   \n",
              "3  115504    Desktop            7   71.105.120.171   \n",
              "4  115505    Desktop            2     73.82.211.73   \n",
              "\n",
              "                        USERPLATFORMUID       USERCITY  USERZIPCODE  \\\n",
              "0  0d5041ff-f0b6-4d1a-9ad7-0a29f7d485b4   Fayetteville      28305.0   \n",
              "1  c8396dd0-969f-4d99-a40b-b7bb1f516154  Conneaut Lake      16316.0   \n",
              "2  3c97a081-6518-43f8-9f26-369759cfb471         Covina      91724.0   \n",
              "3  3e2578c8-f794-41af-a38c-c5cfb3c0f014       Brooklyn      11226.0   \n",
              "4  ec2ae7ce-6a8c-4156-98a7-07203e60f483       Marietta      30062.0   \n",
              "\n",
              "                                           USERAGENT            PLATFORMTYPE  \\\n",
              "0  Mozilla/5.0 (Macintosh; Intel Mac OS X 10_11_6...  Online Medical Journal   \n",
              "1  Mozilla/5.0 (iPhone; CPU iPhone OS 15_6_1 like...  Online Medical Journal   \n",
              "2  Mozilla/5.0 (Macintosh; Intel Mac OS X 10_15_7...  Online Medical Journal   \n",
              "3  Mozilla/5.0 (Macintosh; Intel Mac OS X 10_15_7...  Online Medical Journal   \n",
              "4  Mozilla/5.0 (Windows NT 10.0; Win64; x64) Appl...  Online Medical Journal   \n",
              "\n",
              "  CHANNELTYPE                                                URL  \\\n",
              "0     Website  https://www.clinicaladvisor.com/home/features/...   \n",
              "1     Website  https://www.ophthalmologyadvisor.com/topics/ca...   \n",
              "2     Website  https://www.psychiatryadvisor.com/author/tori-...   \n",
              "3     Website  https://www.cureus.com/articles/105482-diverti...   \n",
              "4     Website  https://www.renalandurologynews.com/home/confe...   \n",
              "\n",
              "                                            KEYWORDS  \n",
              "0  Family Practice|Drainage|Clinical|Dermatology|...  \n",
              "1  General|Clinical|Operative|Medicine|Cardiology...  \n",
              "2  Abortion|Anxiety Disorders|Apnea|False|Trauma|...  \n",
              "3  Health|Male|Neurological Surgery|Otolaryngolog...  \n",
              "4  chronic kidney disease|pain|nephrology|disease...  "
            ],
            "text/html": [
              "\n",
              "  <div id=\"df-bd06cf76-949d-4cd5-b38c-2c20beed7b85\">\n",
              "    <div class=\"colab-df-container\">\n",
              "      <div>\n",
              "<style scoped>\n",
              "    .dataframe tbody tr th:only-of-type {\n",
              "        vertical-align: middle;\n",
              "    }\n",
              "\n",
              "    .dataframe tbody tr th {\n",
              "        vertical-align: top;\n",
              "    }\n",
              "\n",
              "    .dataframe thead th {\n",
              "        text-align: right;\n",
              "    }\n",
              "</style>\n",
              "<table border=\"1\" class=\"dataframe\">\n",
              "  <thead>\n",
              "    <tr style=\"text-align: right;\">\n",
              "      <th></th>\n",
              "      <th>ID</th>\n",
              "      <th>DEVICETYPE</th>\n",
              "      <th>PLATFORM_ID</th>\n",
              "      <th>BIDREQUESTIP</th>\n",
              "      <th>USERPLATFORMUID</th>\n",
              "      <th>USERCITY</th>\n",
              "      <th>USERZIPCODE</th>\n",
              "      <th>USERAGENT</th>\n",
              "      <th>PLATFORMTYPE</th>\n",
              "      <th>CHANNELTYPE</th>\n",
              "      <th>URL</th>\n",
              "      <th>KEYWORDS</th>\n",
              "    </tr>\n",
              "  </thead>\n",
              "  <tbody>\n",
              "    <tr>\n",
              "      <th>0</th>\n",
              "      <td>115501</td>\n",
              "      <td>Desktop</td>\n",
              "      <td>2</td>\n",
              "      <td>75.189.231.103</td>\n",
              "      <td>0d5041ff-f0b6-4d1a-9ad7-0a29f7d485b4</td>\n",
              "      <td>Fayetteville</td>\n",
              "      <td>28305.0</td>\n",
              "      <td>Mozilla/5.0 (Macintosh; Intel Mac OS X 10_11_6...</td>\n",
              "      <td>Online Medical Journal</td>\n",
              "      <td>Website</td>\n",
              "      <td>https://www.clinicaladvisor.com/home/features/...</td>\n",
              "      <td>Family Practice|Drainage|Clinical|Dermatology|...</td>\n",
              "    </tr>\n",
              "    <tr>\n",
              "      <th>1</th>\n",
              "      <td>115502</td>\n",
              "      <td>Mobile</td>\n",
              "      <td>2</td>\n",
              "      <td>24.101.33.158</td>\n",
              "      <td>c8396dd0-969f-4d99-a40b-b7bb1f516154</td>\n",
              "      <td>Conneaut Lake</td>\n",
              "      <td>16316.0</td>\n",
              "      <td>Mozilla/5.0 (iPhone; CPU iPhone OS 15_6_1 like...</td>\n",
              "      <td>Online Medical Journal</td>\n",
              "      <td>Website</td>\n",
              "      <td>https://www.ophthalmologyadvisor.com/topics/ca...</td>\n",
              "      <td>General|Clinical|Operative|Medicine|Cardiology...</td>\n",
              "    </tr>\n",
              "    <tr>\n",
              "      <th>2</th>\n",
              "      <td>115503</td>\n",
              "      <td>Desktop</td>\n",
              "      <td>2</td>\n",
              "      <td>172.118.216.142</td>\n",
              "      <td>3c97a081-6518-43f8-9f26-369759cfb471</td>\n",
              "      <td>Covina</td>\n",
              "      <td>91724.0</td>\n",
              "      <td>Mozilla/5.0 (Macintosh; Intel Mac OS X 10_15_7...</td>\n",
              "      <td>Online Medical Journal</td>\n",
              "      <td>Website</td>\n",
              "      <td>https://www.psychiatryadvisor.com/author/tori-...</td>\n",
              "      <td>Abortion|Anxiety Disorders|Apnea|False|Trauma|...</td>\n",
              "    </tr>\n",
              "    <tr>\n",
              "      <th>3</th>\n",
              "      <td>115504</td>\n",
              "      <td>Desktop</td>\n",
              "      <td>7</td>\n",
              "      <td>71.105.120.171</td>\n",
              "      <td>3e2578c8-f794-41af-a38c-c5cfb3c0f014</td>\n",
              "      <td>Brooklyn</td>\n",
              "      <td>11226.0</td>\n",
              "      <td>Mozilla/5.0 (Macintosh; Intel Mac OS X 10_15_7...</td>\n",
              "      <td>Online Medical Journal</td>\n",
              "      <td>Website</td>\n",
              "      <td>https://www.cureus.com/articles/105482-diverti...</td>\n",
              "      <td>Health|Male|Neurological Surgery|Otolaryngolog...</td>\n",
              "    </tr>\n",
              "    <tr>\n",
              "      <th>4</th>\n",
              "      <td>115505</td>\n",
              "      <td>Desktop</td>\n",
              "      <td>2</td>\n",
              "      <td>73.82.211.73</td>\n",
              "      <td>ec2ae7ce-6a8c-4156-98a7-07203e60f483</td>\n",
              "      <td>Marietta</td>\n",
              "      <td>30062.0</td>\n",
              "      <td>Mozilla/5.0 (Windows NT 10.0; Win64; x64) Appl...</td>\n",
              "      <td>Online Medical Journal</td>\n",
              "      <td>Website</td>\n",
              "      <td>https://www.renalandurologynews.com/home/confe...</td>\n",
              "      <td>chronic kidney disease|pain|nephrology|disease...</td>\n",
              "    </tr>\n",
              "  </tbody>\n",
              "</table>\n",
              "</div>\n",
              "      <button class=\"colab-df-convert\" onclick=\"convertToInteractive('df-bd06cf76-949d-4cd5-b38c-2c20beed7b85')\"\n",
              "              title=\"Convert this dataframe to an interactive table.\"\n",
              "              style=\"display:none;\">\n",
              "        \n",
              "  <svg xmlns=\"http://www.w3.org/2000/svg\" height=\"24px\"viewBox=\"0 0 24 24\"\n",
              "       width=\"24px\">\n",
              "    <path d=\"M0 0h24v24H0V0z\" fill=\"none\"/>\n",
              "    <path d=\"M18.56 5.44l.94 2.06.94-2.06 2.06-.94-2.06-.94-.94-2.06-.94 2.06-2.06.94zm-11 1L8.5 8.5l.94-2.06 2.06-.94-2.06-.94L8.5 2.5l-.94 2.06-2.06.94zm10 10l.94 2.06.94-2.06 2.06-.94-2.06-.94-.94-2.06-.94 2.06-2.06.94z\"/><path d=\"M17.41 7.96l-1.37-1.37c-.4-.4-.92-.59-1.43-.59-.52 0-1.04.2-1.43.59L10.3 9.45l-7.72 7.72c-.78.78-.78 2.05 0 2.83L4 21.41c.39.39.9.59 1.41.59.51 0 1.02-.2 1.41-.59l7.78-7.78 2.81-2.81c.8-.78.8-2.07 0-2.86zM5.41 20L4 18.59l7.72-7.72 1.47 1.35L5.41 20z\"/>\n",
              "  </svg>\n",
              "      </button>\n",
              "      \n",
              "  <style>\n",
              "    .colab-df-container {\n",
              "      display:flex;\n",
              "      flex-wrap:wrap;\n",
              "      gap: 12px;\n",
              "    }\n",
              "\n",
              "    .colab-df-convert {\n",
              "      background-color: #E8F0FE;\n",
              "      border: none;\n",
              "      border-radius: 50%;\n",
              "      cursor: pointer;\n",
              "      display: none;\n",
              "      fill: #1967D2;\n",
              "      height: 32px;\n",
              "      padding: 0 0 0 0;\n",
              "      width: 32px;\n",
              "    }\n",
              "\n",
              "    .colab-df-convert:hover {\n",
              "      background-color: #E2EBFA;\n",
              "      box-shadow: 0px 1px 2px rgba(60, 64, 67, 0.3), 0px 1px 3px 1px rgba(60, 64, 67, 0.15);\n",
              "      fill: #174EA6;\n",
              "    }\n",
              "\n",
              "    [theme=dark] .colab-df-convert {\n",
              "      background-color: #3B4455;\n",
              "      fill: #D2E3FC;\n",
              "    }\n",
              "\n",
              "    [theme=dark] .colab-df-convert:hover {\n",
              "      background-color: #434B5C;\n",
              "      box-shadow: 0px 1px 3px 1px rgba(0, 0, 0, 0.15);\n",
              "      filter: drop-shadow(0px 1px 2px rgba(0, 0, 0, 0.3));\n",
              "      fill: #FFFFFF;\n",
              "    }\n",
              "  </style>\n",
              "\n",
              "      <script>\n",
              "        const buttonEl =\n",
              "          document.querySelector('#df-bd06cf76-949d-4cd5-b38c-2c20beed7b85 button.colab-df-convert');\n",
              "        buttonEl.style.display =\n",
              "          google.colab.kernel.accessAllowed ? 'block' : 'none';\n",
              "\n",
              "        async function convertToInteractive(key) {\n",
              "          const element = document.querySelector('#df-bd06cf76-949d-4cd5-b38c-2c20beed7b85');\n",
              "          const dataTable =\n",
              "            await google.colab.kernel.invokeFunction('convertToInteractive',\n",
              "                                                     [key], {});\n",
              "          if (!dataTable) return;\n",
              "\n",
              "          const docLinkHtml = 'Like what you see? Visit the ' +\n",
              "            '<a target=\"_blank\" href=https://colab.research.google.com/notebooks/data_table.ipynb>data table notebook</a>'\n",
              "            + ' to learn more about interactive tables.';\n",
              "          element.innerHTML = '';\n",
              "          dataTable['output_type'] = 'display_data';\n",
              "          await google.colab.output.renderOutput(dataTable, element);\n",
              "          const docLink = document.createElement('div');\n",
              "          docLink.innerHTML = docLinkHtml;\n",
              "          element.appendChild(docLink);\n",
              "        }\n",
              "      </script>\n",
              "    </div>\n",
              "  </div>\n",
              "  "
            ]
          },
          "metadata": {},
          "execution_count": 91
        }
      ]
    },
    {
      "cell_type": "code",
      "source": [
        "submission = pd.concat([df_temp,is_hcp],axis = 1)"
      ],
      "metadata": {
        "id": "NJTcAAnJf-DV"
      },
      "id": "NJTcAAnJf-DV",
      "execution_count": 163,
      "outputs": []
    },
    {
      "cell_type": "code",
      "source": [
        "sample = pd.read_csv('/content/drive/MyDrive/hackathon/Doceree-HCP_Sample_Submission.csv')"
      ],
      "metadata": {
        "id": "Wufh2nLNgGG6"
      },
      "id": "Wufh2nLNgGG6",
      "execution_count": 66,
      "outputs": []
    },
    {
      "cell_type": "code",
      "source": [
        "sample.shape"
      ],
      "metadata": {
        "colab": {
          "base_uri": "https://localhost:8080/"
        },
        "id": "OxvkMJtpipe2",
        "outputId": "7a2bffb6-0978-4d89-fdd6-551fd38428be"
      },
      "id": "OxvkMJtpipe2",
      "execution_count": 103,
      "outputs": [
        {
          "output_type": "execute_result",
          "data": {
            "text/plain": [
              "(28493, 2)"
            ]
          },
          "metadata": {},
          "execution_count": 103
        }
      ]
    },
    {
      "cell_type": "code",
      "source": [
        "is_hcp.info()"
      ],
      "metadata": {
        "colab": {
          "base_uri": "https://localhost:8080/"
        },
        "id": "quDfUlqKi8oh",
        "outputId": "6269e148-241d-4319-f5a1-24de3c9a0a92"
      },
      "id": "quDfUlqKi8oh",
      "execution_count": 98,
      "outputs": [
        {
          "output_type": "stream",
          "name": "stdout",
          "text": [
            "<class 'pandas.core.frame.DataFrame'>\n",
            "RangeIndex: 28493 entries, 0 to 28492\n",
            "Data columns (total 1 columns):\n",
            " #   Column  Non-Null Count  Dtype  \n",
            "---  ------  --------------  -----  \n",
            " 0   IS_HCP  28493 non-null  float64\n",
            "dtypes: float64(1)\n",
            "memory usage: 222.7 KB\n"
          ]
        }
      ]
    },
    {
      "cell_type": "code",
      "source": [
        "for i in range(sample.shape[0]):\n",
        "  if(is_hcp['IS_HCP'][i] == 0):\n",
        "    sample['IS_HCP'][i] = 0\n",
        "sample.head()"
      ],
      "metadata": {
        "colab": {
          "base_uri": "https://localhost:8080/",
          "height": 206
        },
        "id": "DnK6xig1jPMt",
        "outputId": "5b9f8da4-35bb-4245-b15d-f4612ab16440"
      },
      "id": "DnK6xig1jPMt",
      "execution_count": 128,
      "outputs": [
        {
          "output_type": "execute_result",
          "data": {
            "text/plain": [
              "       ID  IS_HCP\n",
              "0  115501       0\n",
              "1  115502       1\n",
              "2  115503       0\n",
              "3  115504       0\n",
              "4  115505       0"
            ],
            "text/html": [
              "\n",
              "  <div id=\"df-698200b6-f8bf-452c-8e9a-0aa1149cc111\">\n",
              "    <div class=\"colab-df-container\">\n",
              "      <div>\n",
              "<style scoped>\n",
              "    .dataframe tbody tr th:only-of-type {\n",
              "        vertical-align: middle;\n",
              "    }\n",
              "\n",
              "    .dataframe tbody tr th {\n",
              "        vertical-align: top;\n",
              "    }\n",
              "\n",
              "    .dataframe thead th {\n",
              "        text-align: right;\n",
              "    }\n",
              "</style>\n",
              "<table border=\"1\" class=\"dataframe\">\n",
              "  <thead>\n",
              "    <tr style=\"text-align: right;\">\n",
              "      <th></th>\n",
              "      <th>ID</th>\n",
              "      <th>IS_HCP</th>\n",
              "    </tr>\n",
              "  </thead>\n",
              "  <tbody>\n",
              "    <tr>\n",
              "      <th>0</th>\n",
              "      <td>115501</td>\n",
              "      <td>0</td>\n",
              "    </tr>\n",
              "    <tr>\n",
              "      <th>1</th>\n",
              "      <td>115502</td>\n",
              "      <td>1</td>\n",
              "    </tr>\n",
              "    <tr>\n",
              "      <th>2</th>\n",
              "      <td>115503</td>\n",
              "      <td>0</td>\n",
              "    </tr>\n",
              "    <tr>\n",
              "      <th>3</th>\n",
              "      <td>115504</td>\n",
              "      <td>0</td>\n",
              "    </tr>\n",
              "    <tr>\n",
              "      <th>4</th>\n",
              "      <td>115505</td>\n",
              "      <td>0</td>\n",
              "    </tr>\n",
              "  </tbody>\n",
              "</table>\n",
              "</div>\n",
              "      <button class=\"colab-df-convert\" onclick=\"convertToInteractive('df-698200b6-f8bf-452c-8e9a-0aa1149cc111')\"\n",
              "              title=\"Convert this dataframe to an interactive table.\"\n",
              "              style=\"display:none;\">\n",
              "        \n",
              "  <svg xmlns=\"http://www.w3.org/2000/svg\" height=\"24px\"viewBox=\"0 0 24 24\"\n",
              "       width=\"24px\">\n",
              "    <path d=\"M0 0h24v24H0V0z\" fill=\"none\"/>\n",
              "    <path d=\"M18.56 5.44l.94 2.06.94-2.06 2.06-.94-2.06-.94-.94-2.06-.94 2.06-2.06.94zm-11 1L8.5 8.5l.94-2.06 2.06-.94-2.06-.94L8.5 2.5l-.94 2.06-2.06.94zm10 10l.94 2.06.94-2.06 2.06-.94-2.06-.94-.94-2.06-.94 2.06-2.06.94z\"/><path d=\"M17.41 7.96l-1.37-1.37c-.4-.4-.92-.59-1.43-.59-.52 0-1.04.2-1.43.59L10.3 9.45l-7.72 7.72c-.78.78-.78 2.05 0 2.83L4 21.41c.39.39.9.59 1.41.59.51 0 1.02-.2 1.41-.59l7.78-7.78 2.81-2.81c.8-.78.8-2.07 0-2.86zM5.41 20L4 18.59l7.72-7.72 1.47 1.35L5.41 20z\"/>\n",
              "  </svg>\n",
              "      </button>\n",
              "      \n",
              "  <style>\n",
              "    .colab-df-container {\n",
              "      display:flex;\n",
              "      flex-wrap:wrap;\n",
              "      gap: 12px;\n",
              "    }\n",
              "\n",
              "    .colab-df-convert {\n",
              "      background-color: #E8F0FE;\n",
              "      border: none;\n",
              "      border-radius: 50%;\n",
              "      cursor: pointer;\n",
              "      display: none;\n",
              "      fill: #1967D2;\n",
              "      height: 32px;\n",
              "      padding: 0 0 0 0;\n",
              "      width: 32px;\n",
              "    }\n",
              "\n",
              "    .colab-df-convert:hover {\n",
              "      background-color: #E2EBFA;\n",
              "      box-shadow: 0px 1px 2px rgba(60, 64, 67, 0.3), 0px 1px 3px 1px rgba(60, 64, 67, 0.15);\n",
              "      fill: #174EA6;\n",
              "    }\n",
              "\n",
              "    [theme=dark] .colab-df-convert {\n",
              "      background-color: #3B4455;\n",
              "      fill: #D2E3FC;\n",
              "    }\n",
              "\n",
              "    [theme=dark] .colab-df-convert:hover {\n",
              "      background-color: #434B5C;\n",
              "      box-shadow: 0px 1px 3px 1px rgba(0, 0, 0, 0.15);\n",
              "      filter: drop-shadow(0px 1px 2px rgba(0, 0, 0, 0.3));\n",
              "      fill: #FFFFFF;\n",
              "    }\n",
              "  </style>\n",
              "\n",
              "      <script>\n",
              "        const buttonEl =\n",
              "          document.querySelector('#df-698200b6-f8bf-452c-8e9a-0aa1149cc111 button.colab-df-convert');\n",
              "        buttonEl.style.display =\n",
              "          google.colab.kernel.accessAllowed ? 'block' : 'none';\n",
              "\n",
              "        async function convertToInteractive(key) {\n",
              "          const element = document.querySelector('#df-698200b6-f8bf-452c-8e9a-0aa1149cc111');\n",
              "          const dataTable =\n",
              "            await google.colab.kernel.invokeFunction('convertToInteractive',\n",
              "                                                     [key], {});\n",
              "          if (!dataTable) return;\n",
              "\n",
              "          const docLinkHtml = 'Like what you see? Visit the ' +\n",
              "            '<a target=\"_blank\" href=https://colab.research.google.com/notebooks/data_table.ipynb>data table notebook</a>'\n",
              "            + ' to learn more about interactive tables.';\n",
              "          element.innerHTML = '';\n",
              "          dataTable['output_type'] = 'display_data';\n",
              "          await google.colab.output.renderOutput(dataTable, element);\n",
              "          const docLink = document.createElement('div');\n",
              "          docLink.innerHTML = docLinkHtml;\n",
              "          element.appendChild(docLink);\n",
              "        }\n",
              "      </script>\n",
              "    </div>\n",
              "  </div>\n",
              "  "
            ]
          },
          "metadata": {},
          "execution_count": 128
        }
      ]
    },
    {
      "cell_type": "code",
      "source": [
        "sample.info()"
      ],
      "metadata": {
        "colab": {
          "base_uri": "https://localhost:8080/"
        },
        "id": "3iajP-QojoVH",
        "outputId": "47a6c705-e8c1-4148-9285-b3129ecc156e"
      },
      "id": "3iajP-QojoVH",
      "execution_count": 105,
      "outputs": [
        {
          "output_type": "stream",
          "name": "stdout",
          "text": [
            "<class 'pandas.core.frame.DataFrame'>\n",
            "RangeIndex: 28493 entries, 0 to 28492\n",
            "Data columns (total 2 columns):\n",
            " #   Column  Non-Null Count  Dtype\n",
            "---  ------  --------------  -----\n",
            " 0   ID      28493 non-null  int64\n",
            " 1   IS_HCP  28493 non-null  int64\n",
            "dtypes: int64(2)\n",
            "memory usage: 445.3 KB\n"
          ]
        }
      ]
    },
    {
      "cell_type": "code",
      "source": [
        "sample.to_csv('IS_HCP6.csv')"
      ],
      "metadata": {
        "id": "4F-qxYoNjrdo"
      },
      "id": "4F-qxYoNjrdo",
      "execution_count": 129,
      "outputs": []
    }
  ],
  "metadata": {
    "colab": {
      "provenance": [],
      "gpuType": "T4",
      "include_colab_link": true
    },
    "kernelspec": {
      "display_name": "Python 3",
      "name": "python3"
    },
    "language_info": {
      "codemirror_mode": {
        "name": "ipython",
        "version": 3
      },
      "file_extension": ".py",
      "mimetype": "text/x-python",
      "name": "python",
      "nbconvert_exporter": "python",
      "pygments_lexer": "ipython3",
      "version": "3.11.1"
    },
    "accelerator": "GPU"
  },
  "nbformat": 4,
  "nbformat_minor": 5
}